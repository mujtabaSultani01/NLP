{
 "cells": [
  {
   "cell_type": "markdown",
   "id": "119f98ce",
   "metadata": {},
   "source": [
    "## Regular Expressions (regex)\n",
    "**Regex (short for regular expressions)** in Python is a sequence of characters that define a search pattern. It is a powerful tool used for text processing and manipulation. With regex, you can search for specific patterns of characters within strings, extract specific information from text, and replace or modify text in a variety of ways. In Python, the regex module provides support for regular expressions."
   ]
  },
  {
   "cell_type": "code",
   "execution_count": 2,
   "id": "cd32b061",
   "metadata": {},
   "outputs": [],
   "source": [
    "# So to work on Regular Expression (regex) we need to import 're' model.\n",
    "# 're' model comes with python and allows you to do pattern matching.\n",
    "import re"
   ]
  },
  {
   "cell_type": "markdown",
   "id": "164b4e8d",
   "metadata": {},
   "source": [
    "* **regex101** website allow you to test your regular expression. https://regex101.com/"
   ]
  },
  {
   "cell_type": "code",
   "execution_count": 3,
   "id": "ae1016ed",
   "metadata": {},
   "outputs": [],
   "source": [
    "# Chat list:\n",
    "chat1 = \"Welcome to the party. join us on 1029843984 or abc@gmail.com\"\n",
    "chat2 = \"yesssss!, try one more (342)-983-9843, abc_302@xyz.com\"\n",
    "chat3 = \"There will be other option. Try to contact with 9843738432 or abcd@yahoo.com\""
   ]
  },
  {
   "cell_type": "code",
   "execution_count": 5,
   "id": "9716a40a",
   "metadata": {},
   "outputs": [
    {
     "data": {
      "text/plain": [
       "['1029843984']"
      ]
     },
     "execution_count": 5,
     "metadata": {},
     "output_type": "execute_result"
    }
   ],
   "source": [
    "# 're' has a function called 'findall()' which takes couple of arguments. The first argument is pattern and the 2nd argument\n",
    "# is a text. So this function will return matches as result.\n",
    "Pattern = \"\\d{10}\"\n",
    "matches = re.findall(Pattern, chat1)\n",
    "matches"
   ]
  },
  {
   "cell_type": "code",
   "execution_count": 6,
   "id": "da3c8596",
   "metadata": {},
   "outputs": [
    {
     "data": {
      "text/plain": [
       "[]"
      ]
     },
     "execution_count": 6,
     "metadata": {},
     "output_type": "execute_result"
    }
   ],
   "source": [
    "# Now if we check the seccond chat with the same pattern, it will not find the phone number because of different structure:\n",
    "re.findall(Pattern, chat2)"
   ]
  },
  {
   "cell_type": "code",
   "execution_count": 8,
   "id": "33c8bcee",
   "metadata": {},
   "outputs": [
    {
     "data": {
      "text/plain": [
       "['(342)-983-9843']"
      ]
     },
     "execution_count": 8,
     "metadata": {},
     "output_type": "execute_result"
    }
   ],
   "source": [
    "# So to catch the phone number which is brackets, we use different pattern:\n",
    "pattern = \"\\(\\d{3}\\)-\\d{3}-\\d{4}\"\n",
    "re.findall(pattern, chat2)"
   ]
  },
  {
   "cell_type": "code",
   "execution_count": 9,
   "id": "50065596",
   "metadata": {},
   "outputs": [
    {
     "data": {
      "text/plain": [
       "['1029843984 ', ' (342)-983-9843']"
      ]
     },
     "execution_count": 9,
     "metadata": {},
     "output_type": "execute_result"
    }
   ],
   "source": [
    "# So now if we want to catch both the types of numbers at the same times, so for that we just use OR '|' symbols between the\n",
    "# expressions.\n",
    "chat4 = \"Welcome to the party. join us on 1029843984 or abc@gmail.com yesssss!, try one more (342)-983-9843, abc@xyz.com\"\n",
    "patt = \"\\d{10} | \\(\\d{3}\\)-\\d{3}-\\d{4}\"\n",
    "re.findall(patt, chat4)"
   ]
  },
  {
   "cell_type": "code",
   "execution_count": 10,
   "id": "4ea8fc55",
   "metadata": {},
   "outputs": [
    {
     "data": {
      "text/plain": [
       "['abc@gmail.com', 'abc@xyz.com']"
      ]
     },
     "execution_count": 10,
     "metadata": {},
     "output_type": "execute_result"
    }
   ],
   "source": [
    "# So now if look to email id which has a buch of charecters then '@'' symbol then again buch of charecters then '.' and then\n",
    "# again buch of charecters which would be 'com', 'af', 'ir' or something else.\n",
    "pat = \"[a-zA-Z0-9_]*@[a-zA-Z0-9]*\\.com\"\n",
    "re.findall(pat, chat4)"
   ]
  },
  {
   "cell_type": "code",
   "execution_count": 11,
   "id": "4f87554b",
   "metadata": {},
   "outputs": [
    {
     "data": {
      "text/plain": [
       "['abc@gmail.a', 'abc@xyz.c']"
      ]
     },
     "execution_count": 11,
     "metadata": {},
     "output_type": "execute_result"
    }
   ],
   "source": [
    "# So in upper case we just keep 'com' domain. To keeps all domains we'll do it like:\n",
    "pat1 = \"[a-zA-Z0-9_]*@[a-zA-Z0-9]*\\.[a-zA-Z0-9]\"\n",
    "chat5 = \"Welcome to the party. join us on 1029843984 or abc@gmail.af yesssss!, try one more (342)-983-9843, abc@xyz.com\"\n",
    "re.findall(pat1, chat5)"
   ]
  },
  {
   "cell_type": "markdown",
   "id": "61003f2c",
   "metadata": {},
   "source": [
    "### Regex for Information Extraction"
   ]
  },
  {
   "cell_type": "code",
   "execution_count": 12,
   "id": "60ac0550",
   "metadata": {},
   "outputs": [],
   "source": [
    "text='''\n",
    "Born\tElon Reeve Musk\n",
    "June 28, 1971 (age 50)\n",
    "Pretoria, Transvaal, South Africa\n",
    "Citizenship\t\n",
    "South Africa (1971–present)\n",
    "Canada (1971–present)\n",
    "United States (2002–present)\n",
    "Education\tUniversity of Pennsylvania (BS, BA)\n",
    "Title\t\n",
    "Founder, CEO and Chief Engineer of SpaceX\n",
    "CEO and product architect of Tesla, Inc.\n",
    "Founder of The Boring Company and X.com (now part of PayPal)\n",
    "Co-founder of Neuralink, OpenAI, and Zip2\n",
    "Spouse(s)\t\n",
    "Justine Wilson\n",
    "​\n",
    "​(m. 2000; div. 2008)​\n",
    "Talulah Riley\n",
    "​\n",
    "​(m. 2010; div. 2012)​\n",
    "​\n",
    "​(m. 2013; div. 2016)\n",
    "'''"
   ]
  },
  {
   "cell_type": "code",
   "execution_count": 14,
   "id": "b7fa9ba2",
   "metadata": {},
   "outputs": [],
   "source": [
    "# Let's first have a function to return the matched patterns:\n",
    "def get_pattern_match(pattern, text):\n",
    "    matches = re.findall(pattern, text)\n",
    "    if matches:\n",
    "        return matches[0]"
   ]
  },
  {
   "cell_type": "code",
   "execution_count": 15,
   "id": "32dcd671",
   "metadata": {},
   "outputs": [
    {
     "data": {
      "text/plain": [
       "'50'"
      ]
     },
     "execution_count": 15,
     "metadata": {},
     "output_type": "execute_result"
    }
   ],
   "source": [
    "# To get age:\n",
    "get_pattern_match(r'age (\\d+)', text)"
   ]
  },
  {
   "cell_type": "code",
   "execution_count": 16,
   "id": "90c37194",
   "metadata": {},
   "outputs": [
    {
     "data": {
      "text/plain": [
       "'Elon Reeve Musk'"
      ]
     },
     "execution_count": 16,
     "metadata": {},
     "output_type": "execute_result"
    }
   ],
   "source": [
    "# To get name:\n",
    "get_pattern_match(r'Born(.*)\\n', text).strip()"
   ]
  },
  {
   "cell_type": "code",
   "execution_count": 17,
   "id": "571dd8d5",
   "metadata": {},
   "outputs": [
    {
     "data": {
      "text/plain": [
       "'June 28, 1971'"
      ]
     },
     "execution_count": 17,
     "metadata": {},
     "output_type": "execute_result"
    }
   ],
   "source": [
    "# To get birth date:\n",
    "get_pattern_match(r'Born.*\\n(.*)\\(age', text).strip()"
   ]
  },
  {
   "cell_type": "code",
   "execution_count": 20,
   "id": "c44a4bd1",
   "metadata": {},
   "outputs": [
    {
     "data": {
      "text/plain": [
       "'Pretoria, Transvaal, South Africa'"
      ]
     },
     "execution_count": 20,
     "metadata": {},
     "output_type": "execute_result"
    }
   ],
   "source": [
    "# To get birth place:\n",
    "get_pattern_match(r'\\(age.*\\n(.*)', text)"
   ]
  },
  {
   "cell_type": "code",
   "execution_count": 21,
   "id": "f64f6513",
   "metadata": {},
   "outputs": [],
   "source": [
    "# Let's have a function to return all the necessary inforamtion:\n",
    "def extract_personal_information(text):\n",
    "    age = get_pattern_match('age (\\d+)', text)\n",
    "    full_name = get_pattern_match('Born(.*)\\n', text)\n",
    "    birth_date = get_pattern_match('Born.*\\n(.*)\\(age', text)\n",
    "    birth_place = get_pattern_match('\\(age.*\\n(.*)', text)\n",
    "    return {\n",
    "        'age': int(age),\n",
    "        'name': full_name.strip(),\n",
    "        'birth_date': birth_date.strip(),\n",
    "        'birth_place': birth_place.strip()\n",
    "    }"
   ]
  },
  {
   "cell_type": "code",
   "execution_count": 22,
   "id": "d918f1ed",
   "metadata": {},
   "outputs": [
    {
     "data": {
      "text/plain": [
       "{'age': 50,\n",
       " 'name': 'Elon Reeve Musk',\n",
       " 'birth_date': 'June 28, 1971',\n",
       " 'birth_place': 'Pretoria, Transvaal, South Africa'}"
      ]
     },
     "execution_count": 22,
     "metadata": {},
     "output_type": "execute_result"
    }
   ],
   "source": [
    "# So now we can easily just pass the text:\n",
    "extract_personal_information(text)"
   ]
  },
  {
   "cell_type": "code",
   "execution_count": 23,
   "id": "e6ed3efd",
   "metadata": {},
   "outputs": [],
   "source": [
    "# Let's try some different text:\n",
    "text = '''\n",
    "Born\tMukesh Dhirubhai Ambani\n",
    "19 April 1957 (age 64)\n",
    "Aden, Colony of Aden\n",
    "(present-day Yemen)[1][2]\n",
    "Nationality\tIndian\n",
    "Alma mater\t\n",
    "St. Xavier's College, Mumbai\n",
    "Institute of Chemical Technology (B.E.)\n",
    "Stanford University (drop-out)\n",
    "Occupation\tChairman and MD, Reliance Industries\n",
    "Spouse(s)\tNita Ambani ​(m. 1985)​[3]\n",
    "Children\t3\n",
    "Parent(s)\t\n",
    "Dhirubhai Ambani (father)\n",
    "Kokilaben Ambani (mother)\n",
    "Relatives\tAnil Ambani (brother)\n",
    "Tina Ambani (sister-in-law)\n",
    "'''"
   ]
  },
  {
   "cell_type": "code",
   "execution_count": 24,
   "id": "9844ec0a",
   "metadata": {},
   "outputs": [
    {
     "data": {
      "text/plain": [
       "{'age': 64,\n",
       " 'name': 'Mukesh Dhirubhai Ambani',\n",
       " 'birth_date': '19 April 1957',\n",
       " 'birth_place': 'Aden, Colony of Aden'}"
      ]
     },
     "execution_count": 24,
     "metadata": {},
     "output_type": "execute_result"
    }
   ],
   "source": [
    "# Call the function for the new text:\n",
    "extract_personal_information(text)"
   ]
  },
  {
   "cell_type": "markdown",
   "id": "ccb17b49",
   "metadata": {},
   "source": [
    "* **Thats were all for this session...**"
   ]
  }
 ],
 "metadata": {
  "kernelspec": {
   "display_name": "Python 3 (ipykernel)",
   "language": "python",
   "name": "python3"
  },
  "language_info": {
   "codemirror_mode": {
    "name": "ipython",
    "version": 3
   },
   "file_extension": ".py",
   "mimetype": "text/x-python",
   "name": "python",
   "nbconvert_exporter": "python",
   "pygments_lexer": "ipython3",
   "version": "3.9.12"
  }
 },
 "nbformat": 4,
 "nbformat_minor": 5
}
