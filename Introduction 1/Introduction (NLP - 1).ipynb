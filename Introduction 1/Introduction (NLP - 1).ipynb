{
 "cells": [
  {
   "cell_type": "markdown",
   "id": "0c68d1b8",
   "metadata": {},
   "source": [
    "## Natural Language Processing (NLP)\n",
    "**Natural Language Processing (NLP)** is a branch of computer science that deals with the interaction between computers and human language. It involves the development of algorithms and computational models that enable machines to understand, interpret, and generate natural language. NLP aims to bridge the gap between human communication and machine intelligence, making it possible for computers to process vast amounts of textual data and extract meaningful insights from it. The field of NLP has numerous applications, including language translation, sentiment analysis, speech recognition, chatbots, and virtual assistants, among others. With the increasing amount of digital data being generated every day, NLP has become an essential tool for businesses, researchers, and governments worldwide.\n",
    "* The most interesting book for NLP which has end to end projects guid is \"Practical Natural Language Processing\" by Sowmya Wajjala, Bodhisattwa Majumder, Anuj Gupta & Harshit Surana."
   ]
  },
  {
   "cell_type": "markdown",
   "id": "eca910a4",
   "metadata": {},
   "source": [
    "<img src = \"nlp.png\" width = \"800px\" height = \"1600px\"></img>"
   ]
  },
  {
   "cell_type": "markdown",
   "id": "a1c7d442",
   "metadata": {},
   "source": [
    "### The real life usecases of NLP"
   ]
  },
  {
   "cell_type": "markdown",
   "id": "170789ce",
   "metadata": {},
   "source": [
    "1. Gmail sentence auto-completion\n",
    "2. Gmail Spam filters\n",
    "3. Language Translation with better accuracy. It wasn't such accurate in previous years...\n",
    "4. Customer service chat bot.\n",
    "5. Voice Assistant such as Amazone Alexa and Google assistant.\n",
    "6. Google Search Engine => To answer your questions. It uses 'BERT'.\n",
    "7. Automated News generation for news companies. (Bloomberg-Auto-writing news)."
   ]
  },
  {
   "cell_type": "markdown",
   "id": "ef262948",
   "metadata": {},
   "source": [
    "The general libraries used for NLP is:\n",
    "\n",
    "    1. spaCy\n",
    "    2. Gensim\n",
    "    3. NLTK"
   ]
  },
  {
   "cell_type": "markdown",
   "id": "c66deef2",
   "metadata": {},
   "source": [
    "* **ScikitLearn** will be use for ML problem and **tensorflow** and **PyTorch** for DL  as well as **Hugging Face** in case of NLP tasks"
   ]
  },
  {
   "cell_type": "markdown",
   "id": "8247074a",
   "metadata": {},
   "source": [
    "### Career Opportunities in the field of NLP"
   ]
  },
  {
   "cell_type": "markdown",
   "id": "09406d95",
   "metadata": {},
   "source": [
    "There are three majore fields that can be selected:\n",
    "\n",
    "1. **Data Scientist:** specializing in NLP. The main working area of an NLP scientist is to conduct research and development in the field of natural language processing. This involves exploring new techniques, algorithms, and models to improve the accuracy and efficiency of NLP systems. NLP scientists also work on developing new applications and use cases for NLP technology, such as chatbots, voice assistants, and sentiment analysis. Their work aims to advance our understanding of human language and how machines can effectively process and generate it.\n",
    "\n",
    "2. **NLP Engineer:** which is basically ML Engineer solving NLP problems. The main working area of an NLP engineer is to design, develop, and implement natural language processing systems and applications. This involves working with various programming languages, tools, and frameworks to build algorithms and models that can analyze, understand, and generate human language. NLP engineers also work on improving the accuracy and efficiency of existing NLP systems by incorporating new techniques such as deep learning, neural networks, and machine learning. Their work aims to enable machines to interact with humans in a more natural and intelligent way, making it possible for us to communicate with computers using our own language.\n",
    "3. **NLP Researcher:** The main working area of an NLP researcher is to develop algorithms and computational models that enable machines to understand, interpret, and generate natural language. This involves designing and implementing various techniques such as machine learning, deep learning, and natural language generation to process vast amounts of textual data and extract meaningful insights from it. NLP researchers also work on developing applications such as language translation, sentiment analysis, speech recognition, chatbots, and virtual assistants, among others. Their work aims to bridge the gap between human communication and machine intelligence, making it possible for computers to interact with humans in a more natural and intuitive way."
   ]
  },
  {
   "cell_type": "markdown",
   "id": "2804cf28",
   "metadata": {},
   "source": [
    "### Five reasons why NLP is booming currently"
   ]
  },
  {
   "cell_type": "markdown",
   "id": "0e56b39e",
   "metadata": {},
   "source": [
    "1. **Freely Available Pre-trained Models**\n",
    "2. **Opensource Ecosystem**\n",
    "3. **Cheap Hardware , Cloud Resources**\n",
    "4. **Learning Resources**\n",
    "5. **Huge Investment by Big Technology Companies**"
   ]
  }
 ],
 "metadata": {
  "kernelspec": {
   "display_name": "Python 3 (ipykernel)",
   "language": "python",
   "name": "python3"
  },
  "language_info": {
   "codemirror_mode": {
    "name": "ipython",
    "version": 3
   },
   "file_extension": ".py",
   "mimetype": "text/x-python",
   "name": "python",
   "nbconvert_exporter": "python",
   "pygments_lexer": "ipython3",
   "version": "3.9.12"
  }
 },
 "nbformat": 4,
 "nbformat_minor": 5
}
