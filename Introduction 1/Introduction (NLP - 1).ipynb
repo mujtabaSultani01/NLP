{
 "cells": [
  {
   "cell_type": "markdown",
   "id": "8db7e61a",
   "metadata": {},
   "source": [
    "## Natural Language Processing (NLP)\n",
    "**Natural Language Processing (NLP)** is a branch of computer science that deals with the interaction between computers and human language. It involves the development of algorithms and computational models that enable machines to understand, interpret, and generate natural language. NLP aims to bridge the gap between human communication and machine intelligence, making it possible for computers to process vast amounts of textual data and extract meaningful insights from it. The field of NLP has numerous applications, including language translation, sentiment analysis, speech recognition, chatbots, and virtual assistants, among others. With the increasing amount of digital data being generated every day, NLP has become an essential tool for businesses, researchers, and governments worldwide.\n",
    "* The most interesting book for NLP which has end to end projects guid is \"Practical Natural Language Processing\" by Sowmya Wajjala, Bodhisattwa Majumder, Anuj Gupta & Harshit Surana."
   ]
  },
  {
   "cell_type": "markdown",
   "id": "482abfa8",
   "metadata": {},
   "source": [
    "<img src = \"nlp.png\" width = \"800px\" height = \"1600px\"></img>"
   ]
  },
  {
   "cell_type": "markdown",
   "id": "7ab5f461",
   "metadata": {},
   "source": [
    "### The real life usecases of NLP"
   ]
  },
  {
   "cell_type": "markdown",
   "id": "db8fcd8d",
   "metadata": {},
   "source": [
    "1. Gmail sentence auto-completion\n",
    "2. Gmail Spam filters\n",
    "3. Language Translation with better accuracy. It wasn't such accurate in previous years...\n",
    "4. Customer service chat bot.\n",
    "5. Voice Assistant such as Amazone Alexa and Google assistant.\n",
    "6. Google Search Engine => To answer your questions. It uses 'BERT'.\n",
    "7. Automated News generation for news companies. (Bloomberg-Auto-writing news)."
   ]
  },
  {
   "cell_type": "markdown",
   "id": "536e45e1",
   "metadata": {},
   "source": [
    "The general libraries used for NLP is:\n",
    "\n",
    "    1. spaCy\n",
    "    2. Gensim\n",
    "    3. NLTK"
   ]
  },
  {
   "cell_type": "markdown",
   "id": "8f25f3f7",
   "metadata": {},
   "source": [
    "* **ScikitLearn** will be use for ML problem and **tensorflow** and **PyTorch** for DL  as well as **Hugging Face** in case of NLP tasks"
   ]
  },
  {
   "cell_type": "markdown",
   "id": "130bfd3a",
   "metadata": {},
   "source": [
    "### Career Opportunities in the field of NLP"
   ]
  },
  {
   "cell_type": "markdown",
   "id": "fa5200e8",
   "metadata": {},
   "source": [
    "There are three majore fields that can be selected:\n",
    "\n",
    "1. **Data Scientist:** specializing in NLP. The main working area of an NLP scientist is to conduct research and development in the field of natural language processing. This involves exploring new techniques, algorithms, and models to improve the accuracy and efficiency of NLP systems. NLP scientists also work on developing new applications and use cases for NLP technology, such as chatbots, voice assistants, and sentiment analysis. Their work aims to advance our understanding of human language and how machines can effectively process and generate it.\n",
    "\n",
    "2. **NLP Engineer:** which is basically ML Engineer solving NLP problems. The main working area of an NLP engineer is to design, develop, and implement natural language processing systems and applications. This involves working with various programming languages, tools, and frameworks to build algorithms and models that can analyze, understand, and generate human language. NLP engineers also work on improving the accuracy and efficiency of existing NLP systems by incorporating new techniques such as deep learning, neural networks, and machine learning. Their work aims to enable machines to interact with humans in a more natural and intelligent way, making it possible for us to communicate with computers using our own language.\n",
    "3. **NLP Researcher:** The main working area of an NLP researcher is to develop algorithms and computational models that enable machines to understand, interpret, and generate natural language. This involves designing and implementing various techniques such as machine learning, deep learning, and natural language generation to process vast amounts of textual data and extract meaningful insights from it. NLP researchers also work on developing applications such as language translation, sentiment analysis, speech recognition, chatbots, and virtual assistants, among others. Their work aims to bridge the gap between human communication and machine intelligence, making it possible for computers to interact with humans in a more natural and intuitive way."
   ]
  },
  {
   "cell_type": "markdown",
   "id": "da4761e1",
   "metadata": {},
   "source": [
    "### Five reasons why NLP is booming currently"
   ]
  },
  {
   "cell_type": "markdown",
   "id": "c238e5ae",
   "metadata": {},
   "source": [
    "1. **Freely Available Pre-trained Models**\n",
    "2. **Opensource Ecosystem**\n",
    "3. **Cheap Hardware , Cloud Resources**\n",
    "4. **Learning Resources**\n",
    "5. **Huge Investment by Big Technology Companies**"
   ]
  },
  {
   "cell_type": "markdown",
   "id": "471ce52f",
   "metadata": {},
   "source": [
    "### Three Broad Categories of Techniques To Solve Any NLP Problem (NLP Techniques)\n",
    "1. Rules & Heuristics (regex)\n",
    "2. Machine Learning\n",
    "3. Deep Learning"
   ]
  },
  {
   "cell_type": "markdown",
   "id": "0bf502c5",
   "metadata": {},
   "source": [
    "### Different Types of NLP Tasks\n",
    "**1. Text Classification:** We can take customers reviews and classify them into different classes.\n"
   ]
  },
  {
   "cell_type": "markdown",
   "id": "4af67a4d",
   "metadata": {},
   "source": [
    "<img src = \"img.jpg\" width = \"800px\" height = \"600px\"></img>"
   ]
  },
  {
   "cell_type": "markdown",
   "id": "32f3e69a",
   "metadata": {},
   "source": [
    "<img src = \"img1.jpg\" width = \"800px\" height = \"600px\"></img>"
   ]
  },
  {
   "cell_type": "markdown",
   "id": "4edbbd32",
   "metadata": {},
   "source": [
    " **Next:** is classifying documents whether the document is 'prescription' or 'patient record' in medical domain. "
   ]
  },
  {
   "cell_type": "markdown",
   "id": "c23ed0c3",
   "metadata": {},
   "source": [
    "<img src = \"img2.jpg\" width = \"800px\" height = \"600px\"></img>"
   ]
  },
  {
   "cell_type": "markdown",
   "id": "387fba32",
   "metadata": {},
   "source": [
    "**Next is Hate Speech Detection:** For example Facebook can categorieze the posts where they are hate speech are not? LinkedIn also have the same detection algorithm where people make a fake profile and based on some keywords they classify where the profile is fake or not fake?"
   ]
  },
  {
   "cell_type": "markdown",
   "id": "d0ffde49",
   "metadata": {},
   "source": [
    "<img src = \"img3.jpg\" width = \"800px\" height = \"400px\"></img>"
   ]
  },
  {
   "cell_type": "markdown",
   "id": "2155a1f7",
   "metadata": {},
   "source": [
    "**2. Text Similarity:** We can match couple of text with each other and find the similarity between them. For example matching CV with announced positions or for finding plagarism in different written articles or documents."
   ]
  },
  {
   "cell_type": "markdown",
   "id": "73139c8e",
   "metadata": {},
   "source": [
    "<img src = \"img4.jpg\" width = \"800px\" height = \"600px\"></img>"
   ]
  },
  {
   "cell_type": "markdown",
   "id": "1e778d1c",
   "metadata": {},
   "source": [
    "**3. Information Extraction:** The great examples would be 'regex'. For example extracting necessary information from flight reservation request such as 'take off time', 'customer name' and atc ... Or extracting keywords from an articles."
   ]
  },
  {
   "cell_type": "markdown",
   "id": "c7866b9f",
   "metadata": {},
   "source": [
    "* The whole **flow work** for information extraction is shown in image bellow:\n",
    "<img src = \"img5.jpg\" width = \"800px\" height = \"400px\"></img>"
   ]
  },
  {
   "cell_type": "markdown",
   "id": "9e2db5ae",
   "metadata": {},
   "source": [
    "**4. Information Retrieval:** The best example will be Google Search "
   ]
  },
  {
   "cell_type": "markdown",
   "id": "56c79589",
   "metadata": {},
   "source": [
    "**5. Chat Bots:** We have seen the chat bots which speaks with us like bank chat bots or for some commertial websites we have such bots to speak with us and do the chat services.\n",
    "\n",
    "* There are three types of chat bots.\n",
    "1. **FAQ Bot:** which answer you the fixed hard codded answers, there is no connection between your previous sentence and current sentence.\n",
    "2. **Flow-based Bot:** This will keeps connection with the previous senetences and will ask and answer you regarding the sentences which previously asked.\n",
    "3. **Open-Ended Bot:** It is just like your friend, it make you complete and perfect converstaion with you."
   ]
  },
  {
   "cell_type": "markdown",
   "id": "b5ea5214",
   "metadata": {},
   "source": [
    "<img src = \"img6.jpg\" width = \"800px\" height = \"400px\"></img>"
   ]
  },
  {
   "cell_type": "markdown",
   "id": "d397513a",
   "metadata": {},
   "source": [
    "**6. Machine Translation:** Google translate is a greate example for machine translation."
   ]
  },
  {
   "cell_type": "markdown",
   "id": "5a0cb505",
   "metadata": {},
   "source": [
    "**7. Language Modeling:** The gmail sentence auto-completion is a greate example for language modeling. It predict the next set of words and try to complete the sentence. The language model can be two types: 1. Statistical and 2. Neural Model"
   ]
  },
  {
   "cell_type": "markdown",
   "id": "8231c8fa",
   "metadata": {},
   "source": [
    "**8. Text Summarization:** For examples to summarize the whole article in few sentences."
   ]
  },
  {
   "cell_type": "markdown",
   "id": "2b886eb1",
   "metadata": {},
   "source": [
    "**9. Topic Modeling:** For examples we have buch of documents and based on topics we retrieve the require documents."
   ]
  },
  {
   "cell_type": "markdown",
   "id": "08a9740d",
   "metadata": {},
   "source": [
    "**10. Voice Assistants:** "
   ]
  },
  {
   "cell_type": "markdown",
   "id": "fc3a2e19",
   "metadata": {},
   "source": [
    "* So just to summarize, the 10 different NLP tasks covered are:\n",
    "<img src = \"img7.jpg\" width = \"800px\" height = \"400px\"></img>"
   ]
  },
  {
   "cell_type": "markdown",
   "id": "7fbcb631",
   "metadata": {},
   "source": [
    "* **Thats were all for this session...**"
   ]
  }
 ],
 "metadata": {
  "kernelspec": {
   "display_name": "Python 3 (ipykernel)",
   "language": "python",
   "name": "python3"
  },
  "language_info": {
   "codemirror_mode": {
    "name": "ipython",
    "version": 3
   },
   "file_extension": ".py",
   "mimetype": "text/x-python",
   "name": "python",
   "nbconvert_exporter": "python",
   "pygments_lexer": "ipython3",
   "version": "3.9.12"
  }
 },
 "nbformat": 4,
 "nbformat_minor": 5
}
