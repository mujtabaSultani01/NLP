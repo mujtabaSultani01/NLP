{
 "cells": [
  {
   "cell_type": "markdown",
   "id": "e66a3c42",
   "metadata": {},
   "source": [
    "## Text Classification using Fasttext"
   ]
  },
  {
   "cell_type": "markdown",
   "id": "812e5f09",
   "metadata": {},
   "source": [
    "* Dataset Credits: https://www.kaggle.com/datasets/saurabhshahane/ecommerce-text-classification\n",
    "\n",
    "* We have a dataset of ecommerce item description. Total 4 categories,\n",
    "    1. Household\n",
    "    2. Electronics\n",
    "    3. Clothing and Accessories\n",
    "    4. Books\n",
    "\n",
    "* The task at hand is to classify a product into one of the above 4 categories based on the product description"
   ]
  },
  {
   "cell_type": "code",
   "execution_count": 3,
   "id": "9f7c18c8",
   "metadata": {},
   "outputs": [
    {
     "data": {
      "text/html": [
       "<div>\n",
       "<style scoped>\n",
       "    .dataframe tbody tr th:only-of-type {\n",
       "        vertical-align: middle;\n",
       "    }\n",
       "\n",
       "    .dataframe tbody tr th {\n",
       "        vertical-align: top;\n",
       "    }\n",
       "\n",
       "    .dataframe thead th {\n",
       "        text-align: right;\n",
       "    }\n",
       "</style>\n",
       "<table border=\"1\" class=\"dataframe\">\n",
       "  <thead>\n",
       "    <tr style=\"text-align: right;\">\n",
       "      <th></th>\n",
       "      <th>category</th>\n",
       "      <th>description</th>\n",
       "    </tr>\n",
       "  </thead>\n",
       "  <tbody>\n",
       "    <tr>\n",
       "      <th>9957</th>\n",
       "      <td>Household</td>\n",
       "      <td>Gtc 3 In 1 Large Sink Set Dish Rack Drainer Wi...</td>\n",
       "    </tr>\n",
       "    <tr>\n",
       "      <th>5278</th>\n",
       "      <td>Household</td>\n",
       "      <td>PARADIGM PICTURES Wood and Metal Colourful Win...</td>\n",
       "    </tr>\n",
       "    <tr>\n",
       "      <th>31956</th>\n",
       "      <td>Clothing &amp; Accessories</td>\n",
       "      <td>elegante' Combo of UV protected Black Clubmast...</td>\n",
       "    </tr>\n",
       "    <tr>\n",
       "      <th>1396</th>\n",
       "      <td>Household</td>\n",
       "      <td>GSI Multicolour 10 x 10 cm Durable 0 to 9 Numb...</td>\n",
       "    </tr>\n",
       "    <tr>\n",
       "      <th>21351</th>\n",
       "      <td>Books</td>\n",
       "      <td>Barefoot to Boots: The Many Lives of Indian Fo...</td>\n",
       "    </tr>\n",
       "  </tbody>\n",
       "</table>\n",
       "</div>"
      ],
      "text/plain": [
       "                     category  \\\n",
       "9957                Household   \n",
       "5278                Household   \n",
       "31956  Clothing & Accessories   \n",
       "1396                Household   \n",
       "21351                   Books   \n",
       "\n",
       "                                             description  \n",
       "9957   Gtc 3 In 1 Large Sink Set Dish Rack Drainer Wi...  \n",
       "5278   PARADIGM PICTURES Wood and Metal Colourful Win...  \n",
       "31956  elegante' Combo of UV protected Black Clubmast...  \n",
       "1396   GSI Multicolour 10 x 10 cm Durable 0 to 9 Numb...  \n",
       "21351  Barefoot to Boots: The Many Lives of Indian Fo...  "
      ]
     },
     "execution_count": 3,
     "metadata": {},
     "output_type": "execute_result"
    }
   ],
   "source": [
    "# So let's import the dataset:\n",
    "import pandas as pd\n",
    "\n",
    "df= pd.read_csv(\"ecommerce_dataset.csv\", names=[\"category\", \"description\"], header=None)\n",
    "df.sample(5)"
   ]
  },
  {
   "cell_type": "code",
   "execution_count": 2,
   "id": "7833d8b3",
   "metadata": {},
   "outputs": [
    {
     "name": "stdout",
     "output_type": "stream",
     "text": [
      "(50425, 2)\n"
     ]
    }
   ],
   "source": [
    "# Dataset shape is:\n",
    "print(df.shape)"
   ]
  },
  {
   "cell_type": "code",
   "execution_count": 4,
   "id": "870aad44",
   "metadata": {},
   "outputs": [
    {
     "data": {
      "text/plain": [
       "Household                 19313\n",
       "Books                     11820\n",
       "Electronics               10621\n",
       "Clothing & Accessories     8671\n",
       "Name: category, dtype: int64"
      ]
     },
     "execution_count": 4,
     "metadata": {},
     "output_type": "execute_result"
    }
   ],
   "source": [
    "# To explore category column:\n",
    "df.category.value_counts()"
   ]
  },
  {
   "cell_type": "markdown",
   "id": "888d531b",
   "metadata": {},
   "source": [
    "* The dataset is not looking very imbalance so we don't need to have concern."
   ]
  },
  {
   "cell_type": "code",
   "execution_count": 5,
   "id": "bae82372",
   "metadata": {},
   "outputs": [
    {
     "data": {
      "text/plain": [
       "(50424, 2)"
      ]
     },
     "execution_count": 5,
     "metadata": {},
     "output_type": "execute_result"
    }
   ],
   "source": [
    "# Now let's remove if we have .n.a values:\n",
    "df.dropna(inplace=True)\n",
    "df.shape"
   ]
  },
  {
   "cell_type": "markdown",
   "id": "c26c1c0f",
   "metadata": {},
   "source": [
    "* We had only one .n.a value."
   ]
  },
  {
   "cell_type": "code",
   "execution_count": 6,
   "id": "ec93303b",
   "metadata": {},
   "outputs": [],
   "source": [
    "# Next we replace the 'Clothing & Accessories' column name into 'Clothing_Accessories'.\n",
    "df.category.replace(\"Clothing & Accessories\", \"Clothing_Accessories\", inplace=True)"
   ]
  },
  {
   "cell_type": "code",
   "execution_count": 7,
   "id": "d2ebb0d5",
   "metadata": {
    "scrolled": true
   },
   "outputs": [
    {
     "data": {
      "text/plain": [
       "array(['Household', 'Books', 'Clothing_Accessories', 'Electronics'],\n",
       "      dtype=object)"
      ]
     },
     "execution_count": 7,
     "metadata": {},
     "output_type": "execute_result"
    }
   ],
   "source": [
    "# Now to check:\n",
    "df.category.unique()"
   ]
  },
  {
   "cell_type": "code",
   "execution_count": 8,
   "id": "dfc15608",
   "metadata": {
    "scrolled": true
   },
   "outputs": [
    {
     "data": {
      "text/html": [
       "<div>\n",
       "<style scoped>\n",
       "    .dataframe tbody tr th:only-of-type {\n",
       "        vertical-align: middle;\n",
       "    }\n",
       "\n",
       "    .dataframe tbody tr th {\n",
       "        vertical-align: top;\n",
       "    }\n",
       "\n",
       "    .dataframe thead th {\n",
       "        text-align: right;\n",
       "    }\n",
       "</style>\n",
       "<table border=\"1\" class=\"dataframe\">\n",
       "  <thead>\n",
       "    <tr style=\"text-align: right;\">\n",
       "      <th></th>\n",
       "      <th>category</th>\n",
       "      <th>description</th>\n",
       "    </tr>\n",
       "  </thead>\n",
       "  <tbody>\n",
       "    <tr>\n",
       "      <th>0</th>\n",
       "      <td>__label__Household</td>\n",
       "      <td>Paper Plane Design Framed Wall Hanging Motivat...</td>\n",
       "    </tr>\n",
       "    <tr>\n",
       "      <th>1</th>\n",
       "      <td>__label__Household</td>\n",
       "      <td>SAF 'Floral' Framed Painting (Wood, 30 inch x ...</td>\n",
       "    </tr>\n",
       "    <tr>\n",
       "      <th>2</th>\n",
       "      <td>__label__Household</td>\n",
       "      <td>SAF 'UV Textured Modern Art Print Framed' Pain...</td>\n",
       "    </tr>\n",
       "    <tr>\n",
       "      <th>3</th>\n",
       "      <td>__label__Household</td>\n",
       "      <td>SAF Flower Print Framed Painting (Synthetic, 1...</td>\n",
       "    </tr>\n",
       "    <tr>\n",
       "      <th>4</th>\n",
       "      <td>__label__Household</td>\n",
       "      <td>Incredible Gifts India Wooden Happy Birthday U...</td>\n",
       "    </tr>\n",
       "  </tbody>\n",
       "</table>\n",
       "</div>"
      ],
      "text/plain": [
       "             category                                        description\n",
       "0  __label__Household  Paper Plane Design Framed Wall Hanging Motivat...\n",
       "1  __label__Household  SAF 'Floral' Framed Painting (Wood, 30 inch x ...\n",
       "2  __label__Household  SAF 'UV Textured Modern Art Print Framed' Pain...\n",
       "3  __label__Household  SAF Flower Print Framed Painting (Synthetic, 1...\n",
       "4  __label__Household  Incredible Gifts India Wooden Happy Birthday U..."
      ]
     },
     "execution_count": 8,
     "metadata": {},
     "output_type": "execute_result"
    }
   ],
   "source": [
    "# When you train a fasttext model, it expects labels to be specified with label prefix. We will just create a third column\n",
    "# in the dataframe that has label as well as the product description.\n",
    "df['category'] = '__label__' + df['category'].astype(str)\n",
    "df.head(5)"
   ]
  },
  {
   "cell_type": "code",
   "execution_count": 9,
   "id": "f8e76ff6",
   "metadata": {
    "scrolled": true
   },
   "outputs": [
    {
     "data": {
      "text/html": [
       "<div>\n",
       "<style scoped>\n",
       "    .dataframe tbody tr th:only-of-type {\n",
       "        vertical-align: middle;\n",
       "    }\n",
       "\n",
       "    .dataframe tbody tr th {\n",
       "        vertical-align: top;\n",
       "    }\n",
       "\n",
       "    .dataframe thead th {\n",
       "        text-align: right;\n",
       "    }\n",
       "</style>\n",
       "<table border=\"1\" class=\"dataframe\">\n",
       "  <thead>\n",
       "    <tr style=\"text-align: right;\">\n",
       "      <th></th>\n",
       "      <th>category</th>\n",
       "      <th>description</th>\n",
       "      <th>category_description</th>\n",
       "    </tr>\n",
       "  </thead>\n",
       "  <tbody>\n",
       "    <tr>\n",
       "      <th>0</th>\n",
       "      <td>__label__Household</td>\n",
       "      <td>Paper Plane Design Framed Wall Hanging Motivat...</td>\n",
       "      <td>__label__Household Paper Plane Design Framed W...</td>\n",
       "    </tr>\n",
       "    <tr>\n",
       "      <th>1</th>\n",
       "      <td>__label__Household</td>\n",
       "      <td>SAF 'Floral' Framed Painting (Wood, 30 inch x ...</td>\n",
       "      <td>__label__Household SAF 'Floral' Framed Paintin...</td>\n",
       "    </tr>\n",
       "    <tr>\n",
       "      <th>2</th>\n",
       "      <td>__label__Household</td>\n",
       "      <td>SAF 'UV Textured Modern Art Print Framed' Pain...</td>\n",
       "      <td>__label__Household SAF 'UV Textured Modern Art...</td>\n",
       "    </tr>\n",
       "  </tbody>\n",
       "</table>\n",
       "</div>"
      ],
      "text/plain": [
       "             category                                        description  \\\n",
       "0  __label__Household  Paper Plane Design Framed Wall Hanging Motivat...   \n",
       "1  __label__Household  SAF 'Floral' Framed Painting (Wood, 30 inch x ...   \n",
       "2  __label__Household  SAF 'UV Textured Modern Art Print Framed' Pain...   \n",
       "\n",
       "                                category_description  \n",
       "0  __label__Household Paper Plane Design Framed W...  \n",
       "1  __label__Household SAF 'Floral' Framed Paintin...  \n",
       "2  __label__Household SAF 'UV Textured Modern Art...  "
      ]
     },
     "execution_count": 9,
     "metadata": {},
     "output_type": "execute_result"
    }
   ],
   "source": [
    "# So now we need to generate a file which have both category and description in a single line. So for that we create a new \n",
    "# column which has label, category and description. Then we export that particular column into a text file.\n",
    "# So we merge category and description columns and create a 3rd column.\n",
    "df['category_description'] = df['category'] + ' ' + df['description']\n",
    "df.head(3)"
   ]
  },
  {
   "cell_type": "code",
   "execution_count": 10,
   "id": "80d8bab9",
   "metadata": {},
   "outputs": [
    {
     "data": {
      "text/plain": [
       "'__label__Household Paper Plane Design Framed Wall Hanging Motivational Office Decor Art Prints (8.7 X 8.7 inch) - Set of 4 Painting made up in synthetic frame with uv textured print which gives multi effects and attracts towards it. This is an special series of paintings which makes your wall very beautiful and gives a royal touch. This painting is ready to hang, you would be proud to possess this unique painting that is a niche apart. We use only the most modern and efficient printing technology on our prints, with only the and inks and precision epson, roland and hp printers. This innovative hd printing technique results in durable and spectacular looking prints of the highest that last a lifetime. We print solely with top-notch 100% inks, to achieve brilliant and true colours. Due to their high level of uv resistance, our prints retain their beautiful colours for many years. Add colour and style to your living space with this digitally printed painting. Some are for pleasure and some for eternal bliss.so bring home this elegant print that is lushed with rich colors that makes it nothing but sheer elegance to be to your friends and family.it would be treasured forever by whoever your lucky recipient is. Liven up your place with these intriguing paintings that are high definition hd graphic digital prints for home, office or any room.'"
      ]
     },
     "execution_count": 10,
     "metadata": {},
     "output_type": "execute_result"
    }
   ],
   "source": [
    "# To see the first sample:\n",
    "df.category_description[0]"
   ]
  },
  {
   "cell_type": "markdown",
   "id": "643fb66c",
   "metadata": {},
   "source": [
    "### Pre-procesing\n",
    "\n",
    "1. Remove punctuation\n",
    "2. Remove extra space\n",
    "3. Make the entire sentence lower case"
   ]
  },
  {
   "cell_type": "code",
   "execution_count": 13,
   "id": "b5b83b4e",
   "metadata": {},
   "outputs": [],
   "source": [
    "# So to remove all the punctuations, extra spaces or changing upper case into lower case, we use regex using user defined\n",
    "# function:\n",
    "import re\n",
    "\n",
    "def preprocess(text):\n",
    "    text = re.sub(r'[^\\w\\s\\']',' ', text)\n",
    "    text = re.sub(' +', ' ', text)\n",
    "    return text.strip().lower()"
   ]
  },
  {
   "cell_type": "code",
   "execution_count": 14,
   "id": "46ceb5b0",
   "metadata": {},
   "outputs": [
    {
     "data": {
      "text/html": [
       "<div>\n",
       "<style scoped>\n",
       "    .dataframe tbody tr th:only-of-type {\n",
       "        vertical-align: middle;\n",
       "    }\n",
       "\n",
       "    .dataframe tbody tr th {\n",
       "        vertical-align: top;\n",
       "    }\n",
       "\n",
       "    .dataframe thead th {\n",
       "        text-align: right;\n",
       "    }\n",
       "</style>\n",
       "<table border=\"1\" class=\"dataframe\">\n",
       "  <thead>\n",
       "    <tr style=\"text-align: right;\">\n",
       "      <th></th>\n",
       "      <th>category</th>\n",
       "      <th>description</th>\n",
       "      <th>category_description</th>\n",
       "    </tr>\n",
       "  </thead>\n",
       "  <tbody>\n",
       "    <tr>\n",
       "      <th>0</th>\n",
       "      <td>__label__Household</td>\n",
       "      <td>Paper Plane Design Framed Wall Hanging Motivat...</td>\n",
       "      <td>__label__household paper plane design framed w...</td>\n",
       "    </tr>\n",
       "    <tr>\n",
       "      <th>1</th>\n",
       "      <td>__label__Household</td>\n",
       "      <td>SAF 'Floral' Framed Painting (Wood, 30 inch x ...</td>\n",
       "      <td>__label__household saf 'floral' framed paintin...</td>\n",
       "    </tr>\n",
       "    <tr>\n",
       "      <th>2</th>\n",
       "      <td>__label__Household</td>\n",
       "      <td>SAF 'UV Textured Modern Art Print Framed' Pain...</td>\n",
       "      <td>__label__household saf 'uv textured modern art...</td>\n",
       "    </tr>\n",
       "    <tr>\n",
       "      <th>3</th>\n",
       "      <td>__label__Household</td>\n",
       "      <td>SAF Flower Print Framed Painting (Synthetic, 1...</td>\n",
       "      <td>__label__household saf flower print framed pai...</td>\n",
       "    </tr>\n",
       "    <tr>\n",
       "      <th>4</th>\n",
       "      <td>__label__Household</td>\n",
       "      <td>Incredible Gifts India Wooden Happy Birthday U...</td>\n",
       "      <td>__label__household incredible gifts india wood...</td>\n",
       "    </tr>\n",
       "  </tbody>\n",
       "</table>\n",
       "</div>"
      ],
      "text/plain": [
       "             category                                        description  \\\n",
       "0  __label__Household  Paper Plane Design Framed Wall Hanging Motivat...   \n",
       "1  __label__Household  SAF 'Floral' Framed Painting (Wood, 30 inch x ...   \n",
       "2  __label__Household  SAF 'UV Textured Modern Art Print Framed' Pain...   \n",
       "3  __label__Household  SAF Flower Print Framed Painting (Synthetic, 1...   \n",
       "4  __label__Household  Incredible Gifts India Wooden Happy Birthday U...   \n",
       "\n",
       "                                category_description  \n",
       "0  __label__household paper plane design framed w...  \n",
       "1  __label__household saf 'floral' framed paintin...  \n",
       "2  __label__household saf 'uv textured modern art...  \n",
       "3  __label__household saf flower print framed pai...  \n",
       "4  __label__household incredible gifts india wood...  "
      ]
     },
     "execution_count": 14,
     "metadata": {},
     "output_type": "execute_result"
    }
   ],
   "source": [
    "# Next we supply our text 'category_description' column into the defined function:\n",
    "df['category_description'] = df['category_description'].map(preprocess)\n",
    "df.head()"
   ]
  },
  {
   "cell_type": "code",
   "execution_count": 15,
   "id": "7f47fc0c",
   "metadata": {},
   "outputs": [
    {
     "data": {
      "text/plain": [
       "'__label__household paper plane design framed wall hanging motivational office decor art prints 8 7 x 8 7 inch set of 4 painting made up in synthetic frame with uv textured print which gives multi effects and attracts towards it this is an special series of paintings which makes your wall very beautiful and gives a royal touch this painting is ready to hang you would be proud to possess this unique painting that is a niche apart we use only the most modern and efficient printing technology on our prints with only the and inks and precision epson roland and hp printers this innovative hd printing technique results in durable and spectacular looking prints of the highest that last a lifetime we print solely with top notch 100 inks to achieve brilliant and true colours due to their high level of uv resistance our prints retain their beautiful colours for many years add colour and style to your living space with this digitally printed painting some are for pleasure and some for eternal bliss so bring home this elegant print that is lushed with rich colors that makes it nothing but sheer elegance to be to your friends and family it would be treasured forever by whoever your lucky recipient is liven up your place with these intriguing paintings that are high definition hd graphic digital prints for home office or any room'"
      ]
     },
     "execution_count": 15,
     "metadata": {},
     "output_type": "execute_result"
    }
   ],
   "source": [
    "# if we check the first sample, the text will be clean:\n",
    "df.category_description[0]"
   ]
  },
  {
   "cell_type": "code",
   "execution_count": 16,
   "id": "34613e72",
   "metadata": {},
   "outputs": [],
   "source": [
    "# Next we call train_test_split method to split the dataset into train  and test samples:\n",
    "from sklearn.model_selection import train_test_split\n",
    "train, test = train_test_split(df, test_size=0.2)"
   ]
  },
  {
   "cell_type": "code",
   "execution_count": 17,
   "id": "4a46f661",
   "metadata": {},
   "outputs": [
    {
     "data": {
      "text/plain": [
       "((40339, 3), (10085, 3))"
      ]
     },
     "execution_count": 17,
     "metadata": {},
     "output_type": "execute_result"
    }
   ],
   "source": [
    "# To check train and test shapes:\n",
    "train.shape, test.shape"
   ]
  },
  {
   "cell_type": "code",
   "execution_count": 18,
   "id": "b2c01e21",
   "metadata": {},
   "outputs": [],
   "source": [
    "# Next we generate train and test '.txt' files, because 'train_supervised()' expect txt files.\n",
    "train.to_csv(\"ecommerce.train\", columns=[\"category_description\"], index=False, header=False)\n",
    "test.to_csv(\"ecommerce.test\", columns=[\"category_description\"], index=False, header=False)"
   ]
  },
  {
   "cell_type": "code",
   "execution_count": 19,
   "id": "f075141d",
   "metadata": {},
   "outputs": [
    {
     "data": {
      "text/plain": [
       "(10084, 0.9685640618802063, 0.9685640618802063)"
      ]
     },
     "execution_count": 19,
     "metadata": {},
     "output_type": "execute_result"
    }
   ],
   "source": [
    "# Next we train the model using train file and test the performance using test file.\n",
    "# in previous notebook we used unsupervised method to generate word embedding but 'train_supervised' method is used to \n",
    "# classification. So it's used fasttext to generate word embedding and then it will use those word embeddings to do the \n",
    "# classification.\n",
    "import fasttext\n",
    "\n",
    "model = fasttext.train_supervised(input=\"ecommerce.train\")\n",
    "model.test(\"ecommerce.test\")"
   ]
  },
  {
   "cell_type": "markdown",
   "id": "4e402688",
   "metadata": {},
   "source": [
    "* '10084' is the size of the test samples, '0.9685640...' is precision and '0.9685640...' is recall."
   ]
  },
  {
   "cell_type": "code",
   "execution_count": 20,
   "id": "df58b117",
   "metadata": {},
   "outputs": [
    {
     "data": {
      "text/plain": [
       "(('__label__electronics',), array([0.99115664]))"
      ]
     },
     "execution_count": 20,
     "metadata": {},
     "output_type": "execute_result"
    }
   ],
   "source": [
    "# Now let's do some prediction on some items,\n",
    "model.predict(\"wintech assemble desktop pc cpu 500 gb sata hdd 4 gb ram intel c2d processor 3\")"
   ]
  },
  {
   "cell_type": "code",
   "execution_count": 21,
   "id": "ea752f8d",
   "metadata": {},
   "outputs": [
    {
     "data": {
      "text/plain": [
       "(('__label__clothing_accessories',), array([1.00001001]))"
      ]
     },
     "execution_count": 21,
     "metadata": {},
     "output_type": "execute_result"
    }
   ],
   "source": [
    "model.predict(\"ockey men's cotton t shirt fabric details 80 cotton 20 polyester super combed cotton rich fabric\")"
   ]
  },
  {
   "cell_type": "code",
   "execution_count": 22,
   "id": "4fdf12ac",
   "metadata": {
    "scrolled": true
   },
   "outputs": [
    {
     "data": {
      "text/plain": [
       "(('__label__books',), array([1.00000989]))"
      ]
     },
     "execution_count": 22,
     "metadata": {},
     "output_type": "execute_result"
    }
   ],
   "source": [
    "model.predict(\"think and grow rich deluxe edition\")"
   ]
  },
  {
   "cell_type": "code",
   "execution_count": 32,
   "id": "5eff849e",
   "metadata": {},
   "outputs": [
    {
     "data": {
      "text/plain": [
       "[(0.9990784525871277, 'feisty'),\n",
       " (0.9990700483322144, 'ralink'),\n",
       " (0.9990700483322144, '0oc'),\n",
       " (0.9990700483322144, '7601'),\n",
       " (0.9990519285202026, 'rivals'),\n",
       " (0.9990459084510803, 'gamingphoto'),\n",
       " (0.999028742313385, '867'),\n",
       " (0.999028742313385, '1167'),\n",
       " (0.999011218547821, 'visualize'),\n",
       " (0.9990058541297913, 'hommie')]"
      ]
     },
     "execution_count": 32,
     "metadata": {},
     "output_type": "execute_result"
    }
   ],
   "source": [
    "# So when we train the model, at the same time it has word embeddings and we can use those word embedding:\n",
    "model.get_nearest_neighbors(\"sony\")"
   ]
  },
  {
   "cell_type": "code",
   "execution_count": 31,
   "id": "5978dbaa",
   "metadata": {},
   "outputs": [
    {
     "data": {
      "text/plain": [
       "[(0.9990784525871277, 'feisty'),\n",
       " (0.9990700483322144, 'ralink'),\n",
       " (0.9990700483322144, '0oc'),\n",
       " (0.9990700483322144, '7601'),\n",
       " (0.9990519285202026, 'rivals'),\n",
       " (0.9990459084510803, 'gamingphoto'),\n",
       " (0.999028742313385, '867'),\n",
       " (0.999028742313385, '1167'),\n",
       " (0.999011218547821, 'visualize'),\n",
       " (0.9990058541297913, 'hommie')]"
      ]
     },
     "execution_count": 31,
     "metadata": {},
     "output_type": "execute_result"
    }
   ],
   "source": [
    "model.get_nearest_neighbors(\"sony\")"
   ]
  }
 ],
 "metadata": {
  "kernelspec": {
   "display_name": "Python 3 (ipykernel)",
   "language": "python",
   "name": "python3"
  },
  "language_info": {
   "codemirror_mode": {
    "name": "ipython",
    "version": 3
   },
   "file_extension": ".py",
   "mimetype": "text/x-python",
   "name": "python",
   "nbconvert_exporter": "python",
   "pygments_lexer": "ipython3",
   "version": "3.9.12"
  }
 },
 "nbformat": 4,
 "nbformat_minor": 5
}
