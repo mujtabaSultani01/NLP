{
 "cells": [
  {
   "cell_type": "markdown",
   "id": "dce0aee4",
   "metadata": {},
   "source": [
    "## Part Of Speech Tagging\n",
    "**Part of speech (POS) tagging** is a process in natural language processing that involves assigning a part of speech, such as noun, verb, adjective, or adverb, to each word in a sentence. This is done using statistical models or rule-based approaches that analyze the context and syntax of the words in the sentence. Part of speech tagging is important because it helps to disambiguate the meaning of words and enables more accurate analysis of text. For example, knowing whether a word is a noun or a verb can help to identify the subject and predicate of a sentence, which is important for tasks such as text classification, information retrieval, and machine translation."
   ]
  },
  {
   "cell_type": "code",
   "execution_count": 1,
   "id": "974d13fd",
   "metadata": {},
   "outputs": [],
   "source": [
    "# So let's first import the spacy library:\n",
    "import spacy"
   ]
  },
  {
   "cell_type": "code",
   "execution_count": 2,
   "id": "f976cd23",
   "metadata": {},
   "outputs": [],
   "source": [
    "# The next thing we want to do is loading the model.\n",
    "nlp = spacy.load(\"en_core_web_sm\")"
   ]
  },
  {
   "cell_type": "code",
   "execution_count": 3,
   "id": "d1a8a27f",
   "metadata": {},
   "outputs": [
    {
     "name": "stdout",
     "output_type": "stream",
     "text": [
      "Elon  |  PROPN\n",
      "flew  |  VERB\n",
      "to  |  ADP\n",
      "mars  |  NOUN\n",
      "yesterday  |  NOUN\n",
      ".  |  PUNCT\n",
      "He  |  PRON\n",
      "carried  |  VERB\n",
      "biryani  |  ADJ\n",
      "masala  |  NOUN\n",
      "with  |  ADP\n",
      "him  |  PRON\n"
     ]
    }
   ],
   "source": [
    "# Let's have a simple text and print the tokens along with part of speech.\n",
    "doc = nlp(\"Elon flew to mars yesterday. He carried biryani masala with him\")\n",
    "\n",
    "for token in doc:\n",
    "    print(token,\" | \", token.pos_)"
   ]
  },
  {
   "cell_type": "code",
   "execution_count": 4,
   "id": "a29e59cf",
   "metadata": {},
   "outputs": [
    {
     "name": "stdout",
     "output_type": "stream",
     "text": [
      "Elon  |  PROPN  |  proper noun\n",
      "flew  |  VERB  |  verb\n",
      "to  |  ADP  |  adposition\n",
      "mars  |  NOUN  |  noun\n",
      "yesterday  |  NOUN  |  noun\n",
      ".  |  PUNCT  |  punctuation\n",
      "He  |  PRON  |  pronoun\n",
      "carried  |  VERB  |  verb\n",
      "biryani  |  ADJ  |  adjective\n",
      "masala  |  NOUN  |  noun\n",
      "with  |  ADP  |  adposition\n",
      "him  |  PRON  |  pronoun\n"
     ]
    }
   ],
   "source": [
    "# To explain more the the POS:\n",
    "doc = nlp(\"Elon flew to mars yesterday. He carried biryani masala with him\")\n",
    "\n",
    "for token in doc:\n",
    "    print(token,\" | \", token.pos_, \" | \", spacy.explain(token.pos_))"
   ]
  },
  {
   "cell_type": "markdown",
   "id": "579db3c7",
   "metadata": {},
   "source": [
    "You can check https://v2.spacy.io/api/annotation for the complete list of pos categories in spacy.\n",
    "\n",
    "https://en.wikipedia.org/wiki/Preposition_and_postposition\n",
    "\n",
    "https://en.wikipedia.org/wiki/Part_of_speech"
   ]
  },
  {
   "cell_type": "code",
   "execution_count": 5,
   "id": "9b5b5372",
   "metadata": {
    "scrolled": false
   },
   "outputs": [
    {
     "name": "stdout",
     "output_type": "stream",
     "text": [
      "Wow  |  INTJ  |  interjection\n",
      "!  |  PUNCT  |  punctuation\n",
      "Dr.  |  PROPN  |  proper noun\n",
      "Strange  |  PROPN  |  proper noun\n",
      "made  |  VERB  |  verb\n",
      "265  |  NUM  |  numeral\n",
      "million  |  NUM  |  numeral\n",
      "$  |  NUM  |  numeral\n",
      "on  |  ADP  |  adposition\n",
      "the  |  DET  |  determiner\n",
      "very  |  ADV  |  adverb\n",
      "first  |  ADJ  |  adjective\n",
      "day  |  NOUN  |  noun\n"
     ]
    }
   ],
   "source": [
    "# Let's try a different example:\n",
    "doc = nlp(\"Wow! Dr. Strange made 265 million $ on the very first day\")\n",
    "\n",
    "for token in doc:\n",
    "    print(token,\" | \", token.pos_, \" | \", spacy.explain(token.pos_))"
   ]
  },
  {
   "cell_type": "code",
   "execution_count": 6,
   "id": "9c2bc840",
   "metadata": {},
   "outputs": [
    {
     "name": "stdout",
     "output_type": "stream",
     "text": [
      "Wow  |  INTJ  |  interjection  |  UH  |  interjection\n",
      "!  |  PUNCT  |  punctuation  |  .  |  punctuation mark, sentence closer\n",
      "Dr.  |  PROPN  |  proper noun  |  NNP  |  noun, proper singular\n",
      "Strange  |  PROPN  |  proper noun  |  NNP  |  noun, proper singular\n",
      "made  |  VERB  |  verb  |  VBD  |  verb, past tense\n",
      "265  |  NUM  |  numeral  |  CD  |  cardinal number\n",
      "million  |  NUM  |  numeral  |  CD  |  cardinal number\n",
      "$  |  NUM  |  numeral  |  CD  |  cardinal number\n",
      "on  |  ADP  |  adposition  |  IN  |  conjunction, subordinating or preposition\n",
      "the  |  DET  |  determiner  |  DT  |  determiner\n",
      "very  |  ADV  |  adverb  |  RB  |  adverb\n",
      "first  |  ADJ  |  adjective  |  JJ  |  adjective (English), other noun-modifier (Chinese)\n",
      "day  |  NOUN  |  noun  |  NN  |  noun, singular or mass\n"
     ]
    }
   ],
   "source": [
    "# To see the 'Tag' property which has more details than 'pos':\n",
    "doc = nlp(\"Wow! Dr. Strange made 265 million $ on the very first day\")\n",
    "\n",
    "for token in doc:\n",
    "    print(token,\" | \", token.pos_, \" | \", spacy.explain(token.pos_), \" | \", token.tag_, \" | \", spacy.explain(token.tag_))"
   ]
  },
  {
   "cell_type": "markdown",
   "id": "f70af445",
   "metadata": {},
   "source": [
    "**In below sentences Spacy figures out the past vs present tense for quit.**"
   ]
  },
  {
   "cell_type": "code",
   "execution_count": 7,
   "id": "6a89bb66",
   "metadata": {},
   "outputs": [
    {
     "name": "stdout",
     "output_type": "stream",
     "text": [
      "quits | VBZ | verb, 3rd person singular present\n"
     ]
    }
   ],
   "source": [
    "# Will shows the form of the tense: \n",
    "doc = nlp(\"He quits the job\")\n",
    "\n",
    "print(doc[1].text, \"|\", doc[1].tag_, \"|\", spacy.explain(doc[1].tag_))"
   ]
  },
  {
   "cell_type": "code",
   "execution_count": 8,
   "id": "ef48168a",
   "metadata": {},
   "outputs": [
    {
     "name": "stdout",
     "output_type": "stream",
     "text": [
      "quit | VBD | verb, past tense\n"
     ]
    }
   ],
   "source": [
    "# Shows form of the tense:\n",
    "doc = nlp(\"he quit the job\")\n",
    "\n",
    "print(doc[1].text, \"|\", doc[1].tag_, \"|\", spacy.explain(doc[1].tag_))"
   ]
  },
  {
   "cell_type": "markdown",
   "id": "ae3c5c26",
   "metadata": {},
   "source": [
    "* So we see 'Spacy' is smart enought and can figure the terms correctly."
   ]
  },
  {
   "cell_type": "markdown",
   "id": "edb4ddac",
   "metadata": {},
   "source": [
    "**Removing all SPACE, PUNCT and X token from text**\n",
    "\n",
    "Processing microsoft's earning report: https://www.microsoft.com/en-us/investor/earnings/fy-2022-q2/press-release-webcast"
   ]
  },
  {
   "cell_type": "code",
   "execution_count": 12,
   "id": "db5f48b1",
   "metadata": {},
   "outputs": [],
   "source": [
    "# Let's have a simple text:\n",
    "\n",
    "earnings_text=\"\"\"Microsoft Corp. today announced the following results for the quarter ended December 31, 2021, as compared to the corresponding period of last fiscal year:\n",
    "\n",
    "·         Revenue was $51.7 billion and increased 20%\n",
    "·         Operating income was $22.2 billion and increased 24%\n",
    "·         Net income was $18.8 billion and increased 21%\n",
    "·         Diluted earnings per share was $2.48 and increased 22%\n",
    "“Digital technology is the most malleable resource at the world’s disposal to overcome constraints and reimagine everyday work and life,” said Satya Nadella, chairman and chief executive officer of Microsoft. “As tech as a percentage of global GDP continues to increase, we are innovating and investing across diverse and growing markets, with a common underlying technology stack and an operating model that reinforces a common strategy, culture, and sense of purpose.”\n",
    "“Solid commercial execution, represented by strong bookings growth driven by long-term Azure commitments, increased Microsoft Cloud revenue to $22.1 billion, up 32% year over year” said Amy Hood, executive vice president and chief financial officer of Microsoft.\"\"\""
   ]
  },
  {
   "cell_type": "code",
   "execution_count": 13,
   "id": "8b58e111",
   "metadata": {},
   "outputs": [
    {
     "name": "stdout",
     "output_type": "stream",
     "text": [
      "Microsoft  |  PROPN  |  proper noun\n",
      "Corp.  |  PROPN  |  proper noun\n",
      "today  |  NOUN  |  noun\n",
      "announced  |  VERB  |  verb\n",
      "the  |  DET  |  determiner\n",
      "following  |  VERB  |  verb\n",
      "results  |  NOUN  |  noun\n",
      "for  |  ADP  |  adposition\n",
      "the  |  DET  |  determiner\n",
      "quarter  |  NOUN  |  noun\n",
      "ended  |  VERB  |  verb\n",
      "December  |  PROPN  |  proper noun\n",
      "31  |  NUM  |  numeral\n",
      ",  |  PUNCT  |  punctuation\n",
      "2021  |  NUM  |  numeral\n",
      ",  |  PUNCT  |  punctuation\n",
      "as  |  SCONJ  |  subordinating conjunction\n",
      "compared  |  VERB  |  verb\n",
      "to  |  ADP  |  adposition\n",
      "the  |  DET  |  determiner\n",
      "corresponding  |  ADJ  |  adjective\n",
      "period  |  NOUN  |  noun\n",
      "of  |  ADP  |  adposition\n",
      "last  |  ADJ  |  adjective\n",
      "fiscal  |  ADJ  |  adjective\n",
      "year  |  NOUN  |  noun\n",
      ":  |  PUNCT  |  punctuation\n",
      "\n",
      "\n",
      "  |  SPACE  |  space\n",
      "·  |  PUNCT  |  punctuation\n",
      "          |  SPACE  |  space\n",
      "Revenue  |  NOUN  |  noun\n",
      "was  |  AUX  |  auxiliary\n",
      "$  |  SYM  |  symbol\n",
      "51.7  |  NUM  |  numeral\n",
      "billion  |  NUM  |  numeral\n",
      "and  |  CCONJ  |  coordinating conjunction\n",
      "increased  |  VERB  |  verb\n",
      "20  |  NUM  |  numeral\n",
      "%  |  NOUN  |  noun\n",
      "\n",
      "  |  SPACE  |  space\n",
      "·  |  PUNCT  |  punctuation\n",
      "          |  SPACE  |  space\n",
      "Operating  |  VERB  |  verb\n",
      "income  |  NOUN  |  noun\n",
      "was  |  AUX  |  auxiliary\n",
      "$  |  SYM  |  symbol\n",
      "22.2  |  NUM  |  numeral\n",
      "billion  |  NUM  |  numeral\n",
      "and  |  CCONJ  |  coordinating conjunction\n",
      "increased  |  VERB  |  verb\n",
      "24  |  NUM  |  numeral\n",
      "%  |  NOUN  |  noun\n",
      "\n",
      "  |  SPACE  |  space\n",
      "·  |  PUNCT  |  punctuation\n",
      "          |  SPACE  |  space\n",
      "Net  |  ADJ  |  adjective\n",
      "income  |  NOUN  |  noun\n",
      "was  |  AUX  |  auxiliary\n",
      "$  |  SYM  |  symbol\n",
      "18.8  |  NUM  |  numeral\n",
      "billion  |  NUM  |  numeral\n",
      "and  |  CCONJ  |  coordinating conjunction\n",
      "increased  |  VERB  |  verb\n",
      "21  |  NUM  |  numeral\n",
      "%  |  NOUN  |  noun\n",
      "\n",
      "  |  SPACE  |  space\n",
      "·  |  PUNCT  |  punctuation\n",
      "          |  SPACE  |  space\n",
      "Diluted  |  VERB  |  verb\n",
      "earnings  |  NOUN  |  noun\n",
      "per  |  ADP  |  adposition\n",
      "share  |  NOUN  |  noun\n",
      "was  |  AUX  |  auxiliary\n",
      "$  |  SYM  |  symbol\n",
      "2.48  |  NUM  |  numeral\n",
      "and  |  CCONJ  |  coordinating conjunction\n",
      "increased  |  VERB  |  verb\n",
      "22  |  NUM  |  numeral\n",
      "%  |  NOUN  |  noun\n",
      "\n",
      "  |  SPACE  |  space\n",
      "“  |  PUNCT  |  punctuation\n",
      "Digital  |  PROPN  |  proper noun\n",
      "technology  |  NOUN  |  noun\n",
      "is  |  AUX  |  auxiliary\n",
      "the  |  DET  |  determiner\n",
      "most  |  ADV  |  adverb\n",
      "malleable  |  ADJ  |  adjective\n",
      "resource  |  NOUN  |  noun\n",
      "at  |  ADP  |  adposition\n",
      "the  |  DET  |  determiner\n",
      "world  |  NOUN  |  noun\n",
      "’s  |  PART  |  particle\n",
      "disposal  |  NOUN  |  noun\n",
      "to  |  PART  |  particle\n",
      "overcome  |  VERB  |  verb\n",
      "constraints  |  NOUN  |  noun\n",
      "and  |  CCONJ  |  coordinating conjunction\n",
      "reimagine  |  VERB  |  verb\n",
      "everyday  |  ADJ  |  adjective\n",
      "work  |  NOUN  |  noun\n",
      "and  |  CCONJ  |  coordinating conjunction\n",
      "life  |  NOUN  |  noun\n",
      ",  |  PUNCT  |  punctuation\n",
      "”  |  PUNCT  |  punctuation\n",
      "said  |  VERB  |  verb\n",
      "Satya  |  PROPN  |  proper noun\n",
      "Nadella  |  PROPN  |  proper noun\n",
      ",  |  PUNCT  |  punctuation\n",
      "chairman  |  NOUN  |  noun\n",
      "and  |  CCONJ  |  coordinating conjunction\n",
      "chief  |  ADJ  |  adjective\n",
      "executive  |  ADJ  |  adjective\n",
      "officer  |  NOUN  |  noun\n",
      "of  |  ADP  |  adposition\n",
      "Microsoft  |  PROPN  |  proper noun\n",
      ".  |  PUNCT  |  punctuation\n",
      "“  |  PUNCT  |  punctuation\n",
      "As  |  ADV  |  adverb\n",
      "tech  |  NOUN  |  noun\n",
      "as  |  ADP  |  adposition\n",
      "a  |  DET  |  determiner\n",
      "percentage  |  NOUN  |  noun\n",
      "of  |  ADP  |  adposition\n",
      "global  |  ADJ  |  adjective\n",
      "GDP  |  PROPN  |  proper noun\n",
      "continues  |  VERB  |  verb\n",
      "to  |  PART  |  particle\n",
      "increase  |  VERB  |  verb\n",
      ",  |  PUNCT  |  punctuation\n",
      "we  |  PRON  |  pronoun\n",
      "are  |  AUX  |  auxiliary\n",
      "innovating  |  VERB  |  verb\n",
      "and  |  CCONJ  |  coordinating conjunction\n",
      "investing  |  VERB  |  verb\n",
      "across  |  ADP  |  adposition\n",
      "diverse  |  ADJ  |  adjective\n",
      "and  |  CCONJ  |  coordinating conjunction\n",
      "growing  |  VERB  |  verb\n",
      "markets  |  NOUN  |  noun\n",
      ",  |  PUNCT  |  punctuation\n",
      "with  |  ADP  |  adposition\n",
      "a  |  DET  |  determiner\n",
      "common  |  ADJ  |  adjective\n",
      "underlying  |  VERB  |  verb\n",
      "technology  |  NOUN  |  noun\n",
      "stack  |  NOUN  |  noun\n",
      "and  |  CCONJ  |  coordinating conjunction\n",
      "an  |  DET  |  determiner\n",
      "operating  |  NOUN  |  noun\n",
      "model  |  NOUN  |  noun\n",
      "that  |  PRON  |  pronoun\n",
      "reinforces  |  VERB  |  verb\n",
      "a  |  DET  |  determiner\n",
      "common  |  ADJ  |  adjective\n",
      "strategy  |  NOUN  |  noun\n",
      ",  |  PUNCT  |  punctuation\n",
      "culture  |  NOUN  |  noun\n",
      ",  |  PUNCT  |  punctuation\n",
      "and  |  CCONJ  |  coordinating conjunction\n",
      "sense  |  NOUN  |  noun\n",
      "of  |  ADP  |  adposition\n",
      "purpose  |  NOUN  |  noun\n",
      ".  |  PUNCT  |  punctuation\n",
      "”  |  PUNCT  |  punctuation\n",
      "\n",
      "  |  SPACE  |  space\n",
      "“  |  PUNCT  |  punctuation\n",
      "Solid  |  ADJ  |  adjective\n",
      "commercial  |  ADJ  |  adjective\n",
      "execution  |  NOUN  |  noun\n",
      ",  |  PUNCT  |  punctuation\n",
      "represented  |  VERB  |  verb\n",
      "by  |  ADP  |  adposition\n",
      "strong  |  ADJ  |  adjective\n",
      "bookings  |  NOUN  |  noun\n",
      "growth  |  NOUN  |  noun\n",
      "driven  |  VERB  |  verb\n",
      "by  |  ADP  |  adposition\n",
      "long  |  ADJ  |  adjective\n",
      "-  |  PUNCT  |  punctuation\n",
      "term  |  NOUN  |  noun\n",
      "Azure  |  ADJ  |  adjective\n",
      "commitments  |  NOUN  |  noun\n",
      ",  |  PUNCT  |  punctuation\n",
      "increased  |  VERB  |  verb\n",
      "Microsoft  |  PROPN  |  proper noun\n",
      "Cloud  |  PROPN  |  proper noun\n",
      "revenue  |  NOUN  |  noun\n",
      "to  |  ADP  |  adposition\n",
      "$  |  SYM  |  symbol\n",
      "22.1  |  NUM  |  numeral\n",
      "billion  |  NUM  |  numeral\n",
      ",  |  PUNCT  |  punctuation\n",
      "up  |  ADV  |  adverb\n",
      "32  |  NUM  |  numeral\n",
      "%  |  NOUN  |  noun\n",
      "year  |  NOUN  |  noun\n",
      "over  |  ADP  |  adposition\n",
      "year  |  NOUN  |  noun\n",
      "”  |  PUNCT  |  punctuation\n",
      "said  |  VERB  |  verb\n",
      "Amy  |  PROPN  |  proper noun\n",
      "Hood  |  PROPN  |  proper noun\n",
      ",  |  PUNCT  |  punctuation\n",
      "executive  |  ADJ  |  adjective\n",
      "vice  |  NOUN  |  noun\n",
      "president  |  NOUN  |  noun\n",
      "and  |  CCONJ  |  coordinating conjunction\n",
      "chief  |  ADJ  |  adjective\n",
      "financial  |  ADJ  |  adjective\n",
      "officer  |  NOUN  |  noun\n",
      "of  |  ADP  |  adposition\n",
      "Microsoft  |  PROPN  |  proper noun\n",
      ".  |  PUNCT  |  punctuation\n"
     ]
    }
   ],
   "source": [
    "# Let's print the and explaint the text POS:\n",
    "\n",
    "doc = nlp(earnings_text)\n",
    "for token in doc:\n",
    "    print(token, \" | \", token.pos_, \" | \", spacy.explain(token.pos_))"
   ]
  },
  {
   "cell_type": "code",
   "execution_count": 15,
   "id": "aaacd5e1",
   "metadata": {},
   "outputs": [
    {
     "name": "stdout",
     "output_type": "stream",
     "text": [
      ",  |  PUNCT  |  punctuation\n",
      ",  |  PUNCT  |  punctuation\n",
      ":  |  PUNCT  |  punctuation\n",
      "\n",
      "\n",
      "  |  SPACE  |  space\n",
      "·  |  PUNCT  |  punctuation\n",
      "          |  SPACE  |  space\n",
      "\n",
      "  |  SPACE  |  space\n",
      "·  |  PUNCT  |  punctuation\n",
      "          |  SPACE  |  space\n",
      "\n",
      "  |  SPACE  |  space\n",
      "·  |  PUNCT  |  punctuation\n",
      "          |  SPACE  |  space\n",
      "\n",
      "  |  SPACE  |  space\n",
      "·  |  PUNCT  |  punctuation\n",
      "          |  SPACE  |  space\n",
      "\n",
      "  |  SPACE  |  space\n",
      "“  |  PUNCT  |  punctuation\n",
      ",  |  PUNCT  |  punctuation\n",
      "”  |  PUNCT  |  punctuation\n",
      ",  |  PUNCT  |  punctuation\n",
      ".  |  PUNCT  |  punctuation\n",
      "“  |  PUNCT  |  punctuation\n",
      ",  |  PUNCT  |  punctuation\n",
      ",  |  PUNCT  |  punctuation\n",
      ",  |  PUNCT  |  punctuation\n",
      ",  |  PUNCT  |  punctuation\n",
      ".  |  PUNCT  |  punctuation\n",
      "”  |  PUNCT  |  punctuation\n",
      "\n",
      "  |  SPACE  |  space\n",
      "“  |  PUNCT  |  punctuation\n",
      ",  |  PUNCT  |  punctuation\n",
      "-  |  PUNCT  |  punctuation\n",
      ",  |  PUNCT  |  punctuation\n",
      ",  |  PUNCT  |  punctuation\n",
      "”  |  PUNCT  |  punctuation\n",
      ",  |  PUNCT  |  punctuation\n",
      ".  |  PUNCT  |  punctuation\n"
     ]
    }
   ],
   "source": [
    "# Now if we see we have some tokens which don't give any scense such as: \n",
    "doc = nlp(earnings_text)\n",
    "\n",
    "for token in doc:\n",
    "    if token.pos_ in [\"SPACE\", \"PUNCT\", \"X\"]:\n",
    "         print(token, \" | \", token.pos_, \" | \", spacy.explain(token.pos_))\n"
   ]
  },
  {
   "cell_type": "code",
   "execution_count": 17,
   "id": "62681490",
   "metadata": {},
   "outputs": [
    {
     "name": "stdout",
     "output_type": "stream",
     "text": [
      "Microsoft  |  PROPN  |  proper noun\n",
      "Corp.  |  PROPN  |  proper noun\n",
      "today  |  NOUN  |  noun\n",
      "announced  |  VERB  |  verb\n",
      "the  |  DET  |  determiner\n",
      "following  |  VERB  |  verb\n",
      "results  |  NOUN  |  noun\n",
      "for  |  ADP  |  adposition\n",
      "the  |  DET  |  determiner\n",
      "quarter  |  NOUN  |  noun\n",
      "ended  |  VERB  |  verb\n",
      "December  |  PROPN  |  proper noun\n",
      "31  |  NUM  |  numeral\n",
      "2021  |  NUM  |  numeral\n",
      "as  |  SCONJ  |  subordinating conjunction\n",
      "compared  |  VERB  |  verb\n",
      "to  |  ADP  |  adposition\n",
      "the  |  DET  |  determiner\n",
      "corresponding  |  ADJ  |  adjective\n",
      "period  |  NOUN  |  noun\n",
      "of  |  ADP  |  adposition\n",
      "last  |  ADJ  |  adjective\n",
      "fiscal  |  ADJ  |  adjective\n",
      "year  |  NOUN  |  noun\n",
      "Revenue  |  NOUN  |  noun\n",
      "was  |  AUX  |  auxiliary\n",
      "$  |  SYM  |  symbol\n",
      "51.7  |  NUM  |  numeral\n",
      "billion  |  NUM  |  numeral\n",
      "and  |  CCONJ  |  coordinating conjunction\n",
      "increased  |  VERB  |  verb\n",
      "20  |  NUM  |  numeral\n",
      "%  |  NOUN  |  noun\n",
      "Operating  |  VERB  |  verb\n",
      "income  |  NOUN  |  noun\n",
      "was  |  AUX  |  auxiliary\n",
      "$  |  SYM  |  symbol\n",
      "22.2  |  NUM  |  numeral\n",
      "billion  |  NUM  |  numeral\n",
      "and  |  CCONJ  |  coordinating conjunction\n",
      "increased  |  VERB  |  verb\n",
      "24  |  NUM  |  numeral\n",
      "%  |  NOUN  |  noun\n",
      "Net  |  ADJ  |  adjective\n",
      "income  |  NOUN  |  noun\n",
      "was  |  AUX  |  auxiliary\n",
      "$  |  SYM  |  symbol\n",
      "18.8  |  NUM  |  numeral\n",
      "billion  |  NUM  |  numeral\n",
      "and  |  CCONJ  |  coordinating conjunction\n",
      "increased  |  VERB  |  verb\n",
      "21  |  NUM  |  numeral\n",
      "%  |  NOUN  |  noun\n",
      "Diluted  |  VERB  |  verb\n",
      "earnings  |  NOUN  |  noun\n",
      "per  |  ADP  |  adposition\n",
      "share  |  NOUN  |  noun\n",
      "was  |  AUX  |  auxiliary\n",
      "$  |  SYM  |  symbol\n",
      "2.48  |  NUM  |  numeral\n",
      "and  |  CCONJ  |  coordinating conjunction\n",
      "increased  |  VERB  |  verb\n",
      "22  |  NUM  |  numeral\n",
      "%  |  NOUN  |  noun\n",
      "Digital  |  PROPN  |  proper noun\n",
      "technology  |  NOUN  |  noun\n",
      "is  |  AUX  |  auxiliary\n",
      "the  |  DET  |  determiner\n",
      "most  |  ADV  |  adverb\n",
      "malleable  |  ADJ  |  adjective\n",
      "resource  |  NOUN  |  noun\n",
      "at  |  ADP  |  adposition\n",
      "the  |  DET  |  determiner\n",
      "world  |  NOUN  |  noun\n",
      "’s  |  PART  |  particle\n",
      "disposal  |  NOUN  |  noun\n",
      "to  |  PART  |  particle\n",
      "overcome  |  VERB  |  verb\n",
      "constraints  |  NOUN  |  noun\n",
      "and  |  CCONJ  |  coordinating conjunction\n",
      "reimagine  |  VERB  |  verb\n",
      "everyday  |  ADJ  |  adjective\n",
      "work  |  NOUN  |  noun\n",
      "and  |  CCONJ  |  coordinating conjunction\n",
      "life  |  NOUN  |  noun\n",
      "said  |  VERB  |  verb\n",
      "Satya  |  PROPN  |  proper noun\n",
      "Nadella  |  PROPN  |  proper noun\n",
      "chairman  |  NOUN  |  noun\n",
      "and  |  CCONJ  |  coordinating conjunction\n",
      "chief  |  ADJ  |  adjective\n",
      "executive  |  ADJ  |  adjective\n",
      "officer  |  NOUN  |  noun\n",
      "of  |  ADP  |  adposition\n",
      "Microsoft  |  PROPN  |  proper noun\n",
      "As  |  ADV  |  adverb\n",
      "tech  |  NOUN  |  noun\n",
      "as  |  ADP  |  adposition\n",
      "a  |  DET  |  determiner\n",
      "percentage  |  NOUN  |  noun\n",
      "of  |  ADP  |  adposition\n",
      "global  |  ADJ  |  adjective\n",
      "GDP  |  PROPN  |  proper noun\n",
      "continues  |  VERB  |  verb\n",
      "to  |  PART  |  particle\n",
      "increase  |  VERB  |  verb\n",
      "we  |  PRON  |  pronoun\n",
      "are  |  AUX  |  auxiliary\n",
      "innovating  |  VERB  |  verb\n",
      "and  |  CCONJ  |  coordinating conjunction\n",
      "investing  |  VERB  |  verb\n",
      "across  |  ADP  |  adposition\n",
      "diverse  |  ADJ  |  adjective\n",
      "and  |  CCONJ  |  coordinating conjunction\n",
      "growing  |  VERB  |  verb\n",
      "markets  |  NOUN  |  noun\n",
      "with  |  ADP  |  adposition\n",
      "a  |  DET  |  determiner\n",
      "common  |  ADJ  |  adjective\n",
      "underlying  |  VERB  |  verb\n",
      "technology  |  NOUN  |  noun\n",
      "stack  |  NOUN  |  noun\n",
      "and  |  CCONJ  |  coordinating conjunction\n",
      "an  |  DET  |  determiner\n",
      "operating  |  NOUN  |  noun\n",
      "model  |  NOUN  |  noun\n",
      "that  |  PRON  |  pronoun\n",
      "reinforces  |  VERB  |  verb\n",
      "a  |  DET  |  determiner\n",
      "common  |  ADJ  |  adjective\n",
      "strategy  |  NOUN  |  noun\n",
      "culture  |  NOUN  |  noun\n",
      "and  |  CCONJ  |  coordinating conjunction\n",
      "sense  |  NOUN  |  noun\n",
      "of  |  ADP  |  adposition\n",
      "purpose  |  NOUN  |  noun\n",
      "Solid  |  ADJ  |  adjective\n",
      "commercial  |  ADJ  |  adjective\n",
      "execution  |  NOUN  |  noun\n",
      "represented  |  VERB  |  verb\n",
      "by  |  ADP  |  adposition\n",
      "strong  |  ADJ  |  adjective\n",
      "bookings  |  NOUN  |  noun\n",
      "growth  |  NOUN  |  noun\n",
      "driven  |  VERB  |  verb\n",
      "by  |  ADP  |  adposition\n",
      "long  |  ADJ  |  adjective\n",
      "term  |  NOUN  |  noun\n",
      "Azure  |  ADJ  |  adjective\n",
      "commitments  |  NOUN  |  noun\n",
      "increased  |  VERB  |  verb\n",
      "Microsoft  |  PROPN  |  proper noun\n",
      "Cloud  |  PROPN  |  proper noun\n",
      "revenue  |  NOUN  |  noun\n",
      "to  |  ADP  |  adposition\n",
      "$  |  SYM  |  symbol\n",
      "22.1  |  NUM  |  numeral\n",
      "billion  |  NUM  |  numeral\n",
      "up  |  ADV  |  adverb\n",
      "32  |  NUM  |  numeral\n",
      "%  |  NOUN  |  noun\n",
      "year  |  NOUN  |  noun\n",
      "over  |  ADP  |  adposition\n",
      "year  |  NOUN  |  noun\n",
      "said  |  VERB  |  verb\n",
      "Amy  |  PROPN  |  proper noun\n",
      "Hood  |  PROPN  |  proper noun\n",
      "executive  |  ADJ  |  adjective\n",
      "vice  |  NOUN  |  noun\n",
      "president  |  NOUN  |  noun\n",
      "and  |  CCONJ  |  coordinating conjunction\n",
      "chief  |  ADJ  |  adjective\n",
      "financial  |  ADJ  |  adjective\n",
      "officer  |  NOUN  |  noun\n",
      "of  |  ADP  |  adposition\n",
      "Microsoft  |  PROPN  |  proper noun\n"
     ]
    }
   ],
   "source": [
    "# If we do not in, it will display the reverse tokens. \n",
    "for token in doc:\n",
    "    if token.pos_ not in [\"SPACE\", \"PUNCT\", \"X\"]:\n",
    "         print(token, \" | \", token.pos_, \" | \", spacy.explain(token.pos_))"
   ]
  },
  {
   "cell_type": "code",
   "execution_count": 18,
   "id": "5d0d169c",
   "metadata": {},
   "outputs": [],
   "source": [
    "# Now we want to remove all the extra charecters, punctuation marks from the text and just keep the filterd tokens.\n",
    "filtered_tokens = []\n",
    "\n",
    "for token in doc:\n",
    "    if token.pos_ not in [\"SPACE\", \"PUNCT\", \"X\"]:\n",
    "        filtered_tokens.append(token)"
   ]
  },
  {
   "cell_type": "code",
   "execution_count": 19,
   "id": "1a174888",
   "metadata": {},
   "outputs": [
    {
     "data": {
      "text/plain": [
       "[Microsoft,\n",
       " Corp.,\n",
       " today,\n",
       " announced,\n",
       " the,\n",
       " following,\n",
       " results,\n",
       " for,\n",
       " the,\n",
       " quarter]"
      ]
     },
     "execution_count": 19,
     "metadata": {},
     "output_type": "execute_result"
    }
   ],
   "source": [
    "# Now if you look at the tokens, all the jargons are cleaned up:\n",
    "filtered_tokens[:10]"
   ]
  },
  {
   "cell_type": "code",
   "execution_count": 20,
   "id": "88076609",
   "metadata": {},
   "outputs": [
    {
     "data": {
      "text/plain": [
       "{96: 13,\n",
       " 92: 46,\n",
       " 100: 24,\n",
       " 90: 9,\n",
       " 85: 16,\n",
       " 93: 16,\n",
       " 97: 27,\n",
       " 98: 1,\n",
       " 84: 20,\n",
       " 103: 10,\n",
       " 87: 6,\n",
       " 99: 5,\n",
       " 89: 12,\n",
       " 86: 3,\n",
       " 94: 3,\n",
       " 95: 2}"
      ]
     },
     "execution_count": 20,
     "metadata": {},
     "output_type": "execute_result"
    }
   ],
   "source": [
    "# Now to know how many verbs are there or how many nouns are there in the text. So we can do this by 'count_by' API.\n",
    "count = doc.count_by(spacy.attrs.POS)\n",
    "count"
   ]
  },
  {
   "cell_type": "code",
   "execution_count": 21,
   "id": "b750757b",
   "metadata": {},
   "outputs": [
    {
     "data": {
      "text/plain": [
       "'PROPN'"
      ]
     },
     "execution_count": 21,
     "metadata": {},
     "output_type": "execute_result"
    }
   ],
   "source": [
    "# Now to know about 96, 92, 100 ....\n",
    "doc.vocab[96].text    # It will shows us the Grammar term shown by 96."
   ]
  },
  {
   "cell_type": "code",
   "execution_count": 22,
   "id": "bf6ad38e",
   "metadata": {
    "scrolled": true
   },
   "outputs": [
    {
     "name": "stdout",
     "output_type": "stream",
     "text": [
      "PROPN | 13\n",
      "NOUN | 46\n",
      "VERB | 24\n",
      "DET | 9\n",
      "ADP | 16\n",
      "NUM | 16\n",
      "PUNCT | 27\n",
      "SCONJ | 1\n",
      "ADJ | 20\n",
      "SPACE | 10\n",
      "AUX | 6\n",
      "SYM | 5\n",
      "CCONJ | 12\n",
      "ADV | 3\n",
      "PART | 3\n",
      "PRON | 2\n"
     ]
    }
   ],
   "source": [
    "# To display for all the values.\n",
    "for k,v in count.items():\n",
    "    print(doc.vocab[k].text, \"|\",v)"
   ]
  },
  {
   "cell_type": "markdown",
   "id": "a93bcdbb",
   "metadata": {},
   "source": [
    "* **Thats were all for this notebook.**"
   ]
  },
  {
   "cell_type": "markdown",
   "id": "5163fa5a",
   "metadata": {},
   "source": [
    "### Exercise\n",
    "**Exercise for Spacy POS tutorial,**\n",
    "\n",
    "1. You are parsing a news story from cnbc.com. News story is stores in news_story.txt which is available in this same folder on github. You need to,\n",
    "    1. Extract all NOUN tokens from this story. You will have to read the file in python first to collect all the text and then extract NOUNs in a python list\n",
    "    2. Extract all numbers (NUM POS type) in a python list\n",
    "    3. Print a count of all POS tags in this story"
   ]
  }
 ],
 "metadata": {
  "kernelspec": {
   "display_name": "Python 3 (ipykernel)",
   "language": "python",
   "name": "python3"
  },
  "language_info": {
   "codemirror_mode": {
    "name": "ipython",
    "version": 3
   },
   "file_extension": ".py",
   "mimetype": "text/x-python",
   "name": "python",
   "nbconvert_exporter": "python",
   "pygments_lexer": "ipython3",
   "version": "3.9.12"
  }
 },
 "nbformat": 4,
 "nbformat_minor": 5
}
