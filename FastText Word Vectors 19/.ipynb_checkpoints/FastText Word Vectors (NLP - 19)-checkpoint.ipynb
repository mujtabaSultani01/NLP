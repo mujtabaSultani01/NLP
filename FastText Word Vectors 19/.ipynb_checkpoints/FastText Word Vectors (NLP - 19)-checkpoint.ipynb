{
 "cells": [
  {
   "cell_type": "markdown",
   "id": "9cf88851",
   "metadata": {},
   "source": [
    "## FastText Word Vectors\n",
    "**fastText** is an open-source, free, lightweight library developed by Facebook AI Research for efficient text classification and representation learning. It is based on the word2vec algorithm but extends it to handle subword information. This means that fastText can capture the meaning of words even if they are not present in the training data by breaking them down into their constituent subwords and learning representations for them. \n",
    "\n",
    "**FastText** can be used for a variety of NLP tasks, including text classification, sentiment analysis, and language modeling. It is particularly useful for languages with complex morphology, where words can be formed by combining multiple morphemes or subwords. FastText has been shown to achieve state-of-the-art performance on several benchmark datasets and is widely used in industry and academia."
   ]
  },
  {
   "cell_type": "markdown",
   "id": "0a8f7559",
   "metadata": {},
   "source": [
    "<img src = \"img.png\" width = \"700px\" height = \"500px\"></img>"
   ]
  },
  {
   "cell_type": "markdown",
   "id": "f3045c07",
   "metadata": {},
   "source": [
    "* So based on feeding charecters instead of word, the **fastText** technique don't have OOV problem."
   ]
  },
  {
   "cell_type": "markdown",
   "id": "03acfe1f",
   "metadata": {},
   "source": [
    "<img src = \"img1.png\" width = \"700px\" height = \"500px\"></img>"
   ]
  },
  {
   "cell_type": "markdown",
   "id": "4d9e8e77",
   "metadata": {},
   "source": [
    "* For custom word embedding the **fastText** is the first choice."
   ]
  },
  {
   "cell_type": "markdown",
   "id": "5cc48e0f",
   "metadata": {},
   "source": [
    "* Here we first download pre-trained **fastText model** and use it and then we train a custom fastText model based on our own dataset."
   ]
  },
  {
   "cell_type": "code",
   "execution_count": 1,
   "id": "1a9dfa63",
   "metadata": {},
   "outputs": [],
   "source": [
    "# So first we import fasttext:\n",
    "import fasttext"
   ]
  },
  {
   "cell_type": "code",
   "execution_count": 3,
   "id": "40115727",
   "metadata": {
    "scrolled": true
   },
   "outputs": [
    {
     "name": "stderr",
     "output_type": "stream",
     "text": [
      "Warning : `load_model` does not return WordVectorModel or SupervisedModel any more, but a `FastText` object which is very similar.\n"
     ]
    }
   ],
   "source": [
    "# Next we load the dataset:\n",
    "model_en = fasttext.load_model(\"E://model//cc.en.300.bin\")    # this model is trained using fasttext."
   ]
  },
  {
   "cell_type": "code",
   "execution_count": 4,
   "id": "c23e9a62",
   "metadata": {},
   "outputs": [
    {
     "data": {
      "text/plain": [
       "['__class__',\n",
       " '__contains__',\n",
       " '__delattr__',\n",
       " '__dict__',\n",
       " '__dir__',\n",
       " '__doc__',\n",
       " '__eq__',\n",
       " '__format__',\n",
       " '__ge__',\n",
       " '__getattribute__',\n",
       " '__getitem__',\n",
       " '__gt__',\n",
       " '__hash__',\n",
       " '__init__',\n",
       " '__init_subclass__',\n",
       " '__le__',\n",
       " '__lt__',\n",
       " '__module__',\n",
       " '__ne__',\n",
       " '__new__',\n",
       " '__reduce__',\n",
       " '__reduce_ex__',\n",
       " '__repr__',\n",
       " '__setattr__',\n",
       " '__sizeof__',\n",
       " '__str__',\n",
       " '__subclasshook__',\n",
       " '__weakref__',\n",
       " '_labels',\n",
       " '_words',\n",
       " 'f',\n",
       " 'get_analogies',\n",
       " 'get_dimension',\n",
       " 'get_input_matrix',\n",
       " 'get_input_vector',\n",
       " 'get_label_id',\n",
       " 'get_labels',\n",
       " 'get_line',\n",
       " 'get_meter',\n",
       " 'get_nearest_neighbors',\n",
       " 'get_output_matrix',\n",
       " 'get_sentence_vector',\n",
       " 'get_subword_id',\n",
       " 'get_subwords',\n",
       " 'get_word_id',\n",
       " 'get_word_vector',\n",
       " 'get_words',\n",
       " 'is_quantized',\n",
       " 'labels',\n",
       " 'predict',\n",
       " 'quantize',\n",
       " 'save_model',\n",
       " 'set_args',\n",
       " 'set_matrices',\n",
       " 'test',\n",
       " 'test_label',\n",
       " 'words']"
      ]
     },
     "execution_count": 4,
     "metadata": {},
     "output_type": "execute_result"
    }
   ],
   "source": [
    "# Now to know which methods are available for this model:\n",
    "dir(model_en)"
   ]
  },
  {
   "cell_type": "code",
   "execution_count": 5,
   "id": "23b74e49",
   "metadata": {},
   "outputs": [
    {
     "data": {
      "text/plain": [
       "[(0.8392396569252014, 'microphones'),\n",
       " (0.8321380019187927, 'mic'),\n",
       " (0.7451598644256592, 'microphone.The'),\n",
       " (0.729803740978241, 'mics'),\n",
       " (0.7280287742614746, 'microphone.'),\n",
       " (0.7029080986976624, 'Microphone'),\n",
       " (0.6825612187385559, 'mic.'),\n",
       " (0.6728053092956543, 'earpiece'),\n",
       " (0.6616590619087219, 'microphone-'),\n",
       " (0.611439049243927, 'headset')]"
      ]
     },
     "execution_count": 5,
     "metadata": {},
     "output_type": "execute_result"
    }
   ],
   "source": [
    "# So one of the methods is get_nearest_neighbors which list us the nearst words to a given word:\n",
    "model_en.get_nearest_neighbors('microphone')"
   ]
  },
  {
   "cell_type": "code",
   "execution_count": 6,
   "id": "b8f75f93",
   "metadata": {},
   "outputs": [
    {
     "data": {
      "text/plain": [
       "array([-0.06745417, -0.00459055,  0.0292529 ,  0.06398505, -0.05890018,\n",
       "       -0.02680354,  0.0673181 , -0.01874053, -0.01697014,  0.01742896,\n",
       "       -0.05997003,  0.01556631, -0.01342714,  0.00979408,  0.00383289,\n",
       "       -0.00058665,  0.06775226,  0.01824615, -0.02152427,  0.02759496,\n",
       "       -0.01638171, -0.00524545, -0.01547334,  0.00694389, -0.04726338,\n",
       "       -0.04980147,  0.0288943 , -0.03506989,  0.08879457,  0.00633675,\n",
       "        0.04459114, -0.00759133, -0.02217289,  0.04462425,  0.06456985,\n",
       "        0.02746628, -0.0354324 , -0.01573211, -0.0217766 ,  0.00482742,\n",
       "        0.01072012, -0.01384184, -0.06619801,  0.02753797, -0.01134966,\n",
       "        0.02921755, -0.00332457,  0.00827356,  0.00517734,  0.01100364,\n",
       "       -0.01660618,  0.0219216 , -0.02292698,  0.0007693 , -0.02968867,\n",
       "       -0.03125088, -0.0202588 , -0.02813895, -0.0620019 , -0.0088591 ,\n",
       "        0.00561525, -0.05416813, -0.04537176, -0.05977495, -0.02932148,\n",
       "        0.0088325 , -0.0464927 , -0.02898412, -0.01737385, -0.00224497,\n",
       "       -0.02639781, -0.01324632, -0.00627516,  0.0190297 , -0.00090278,\n",
       "        0.01094094,  0.02259974, -0.01328882, -0.01881948, -0.02607568,\n",
       "        0.03356053, -0.01496767,  0.00620386, -0.00170925,  0.01663999,\n",
       "        0.00506882, -0.00323576,  0.03240499,  0.04643239,  0.09937023,\n",
       "       -0.03715007,  0.02979998,  0.07438615,  0.00013478,  0.0255903 ,\n",
       "        0.04685918, -0.05000694,  0.02794629, -0.0059277 , -0.0088115 ,\n",
       "        0.01197165,  0.02438085, -0.01988062,  0.0291871 , -0.01387026,\n",
       "       -0.01258489, -0.04661618, -0.0405703 , -0.02283585, -0.00167822,\n",
       "        0.07677934, -0.03764741,  0.00077823,  0.00739764, -0.05156488,\n",
       "       -0.0273645 , -0.00062818, -0.0635378 ,  0.04947567, -0.02910968,\n",
       "        0.06838787, -0.02339826,  0.01867296, -0.00138168, -0.08116556,\n",
       "        0.03718598,  0.00263354, -0.04213231, -0.05549631,  0.07493459,\n",
       "       -0.00888026, -0.01887381, -0.09799088, -0.00628888, -0.00884863,\n",
       "       -0.03449444,  0.00223888, -0.00726002,  0.00846291, -0.01740462,\n",
       "       -0.03635446,  0.04577964,  0.06854084,  0.02792925, -0.06829604,\n",
       "        0.09478011, -0.11703374, -0.04454776, -0.01318877,  0.05825409,\n",
       "       -0.05238503,  0.01630208, -0.01917494, -0.01469734, -0.04262566,\n",
       "        0.01129589,  0.02097215, -0.03661526, -0.02046691,  0.01369673,\n",
       "        0.04115828, -0.03934944, -0.00585536, -0.01655094,  0.00628357,\n",
       "        0.04539487,  0.00074034, -0.04037062,  0.02491383, -0.0148202 ,\n",
       "        0.02307461, -0.01883495, -0.01452747,  0.02041102, -0.01556075,\n",
       "       -0.04994124, -0.04085807, -0.09394173, -0.02466092, -0.05175488,\n",
       "       -0.03194869, -0.04318009,  0.03573554, -0.06347003, -0.01196436,\n",
       "        0.0207311 , -0.04341203, -0.04307825, -0.02159471, -0.01580598,\n",
       "        0.05196124,  0.00766172,  0.01320867, -0.01124414, -0.00745974,\n",
       "        0.00773462, -0.00131783, -0.0290494 ,  0.0244722 ,  0.11401629,\n",
       "       -0.05823019,  0.04860075,  0.0133613 , -0.00181313,  0.01427638,\n",
       "        0.02133847, -0.06164787, -0.04656851, -0.04713338, -0.01844516,\n",
       "        0.03752581, -0.03680012, -0.03286578,  0.05520513, -0.02335752,\n",
       "       -0.0013054 , -0.07924347, -0.05024707,  0.06161053,  0.09432101,\n",
       "        0.04354885,  0.01972426, -0.01064177,  0.08407587,  0.00422794,\n",
       "       -0.07447063, -0.03027795,  0.02335897,  0.01703176,  0.02149606,\n",
       "       -0.00973265, -0.0261734 , -0.01257528,  0.03427296,  0.00193022,\n",
       "       -0.03392673, -0.0234446 , -0.0368935 ,  0.02570014, -0.0107185 ,\n",
       "       -0.020861  ,  0.01541997, -0.05664642, -0.1083131 ,  0.11199944,\n",
       "        0.01190487,  0.00313019, -0.0214409 ,  0.00861447,  0.00908983,\n",
       "        0.00955401, -0.07102236, -0.0132121 , -0.01734174, -0.02618417,\n",
       "       -0.0051804 , -0.00754561, -0.03455837, -0.02470878,  0.01838369,\n",
       "       -0.07310916,  0.01071342,  0.01301818,  0.02269239, -0.07171278,\n",
       "        0.02755619, -0.00322553, -0.11923023, -0.0351142 , -0.08246489,\n",
       "       -0.06729885, -0.04869562, -0.03526914,  0.07004996, -0.00750104,\n",
       "        0.02234792, -0.0082748 , -0.01832248, -0.01032749,  0.0572154 ,\n",
       "       -0.07073592,  0.03795188, -0.0700942 , -0.01507809,  0.01025577,\n",
       "       -0.02878894, -0.00100394, -0.05217785,  0.00365033, -0.04204683,\n",
       "        0.08049392,  0.08329802, -0.06514179, -0.10985386,  0.01193009,\n",
       "       -0.00110531,  0.01235589,  0.06876165, -0.00651405, -0.00948137],\n",
       "      dtype=float32)"
      ]
     },
     "execution_count": 6,
     "metadata": {},
     "output_type": "execute_result"
    }
   ],
   "source": [
    "# You can get word vector for each individual word:\n",
    "model_en.get_word_vector(\"better\")"
   ]
  },
  {
   "cell_type": "code",
   "execution_count": 7,
   "id": "3cd220be",
   "metadata": {},
   "outputs": [
    {
     "data": {
      "text/plain": [
       "(300,)"
      ]
     },
     "execution_count": 7,
     "metadata": {},
     "output_type": "execute_result"
    }
   ],
   "source": [
    "# Shape of each vector will be 300:\n",
    "model_en.get_word_vector(\"better\").shape"
   ]
  },
  {
   "cell_type": "code",
   "execution_count": 8,
   "id": "2fff31e8",
   "metadata": {},
   "outputs": [
    {
     "data": {
      "text/plain": [
       "[(0.7303731441497803, 'paris'),\n",
       " (0.6408537030220032, 'france.'),\n",
       " (0.6393311023712158, 'avignon'),\n",
       " (0.6316676139831543, 'paris.'),\n",
       " (0.5895596742630005, 'montpellier'),\n",
       " (0.5884554386138916, 'rennes'),\n",
       " (0.5850598812103271, 'grenoble'),\n",
       " (0.5832924246788025, 'london'),\n",
       " (0.5806092619895935, 'strasbourg'),\n",
       " (0.574320375919342, 'Paris.')]"
      ]
     },
     "execution_count": 8,
     "metadata": {},
     "output_type": "execute_result"
    }
   ],
   "source": [
    "# Next method is get_anologies which find relationship between first two words and predict it for the 3rd word:\n",
    "model_en.get_analogies(\"berlin\",\"germany\",\"france\")"
   ]
  },
  {
   "cell_type": "code",
   "execution_count": 11,
   "id": "d8ee9cea",
   "metadata": {},
   "outputs": [
    {
     "data": {
      "text/plain": [
       "[(0.7053670883178711, 'Kabul'),\n",
       " (0.6333202123641968, 'Jalalabad'),\n",
       " (0.6297706365585327, 'Kandahar'),\n",
       " (0.6237329244613647, 'Afghan'),\n",
       " (0.6198960542678833, 'Afghanistan.The'),\n",
       " (0.614515483379364, 'Aghanistan'),\n",
       " (0.6143754124641418, 'Afghanistan.In'),\n",
       " (0.6122112274169922, 'Herat'),\n",
       " (0.5971596837043762, 'Afghanistan.He'),\n",
       " (0.583417534828186, 'Helmand')]"
      ]
     },
     "execution_count": 11,
     "metadata": {},
     "output_type": "execute_result"
    }
   ],
   "source": [
    "model_en.get_analogies(\"berlin\",\"germany\",\"Afghanistan\")"
   ]
  },
  {
   "cell_type": "code",
   "execution_count": 12,
   "id": "7de09302",
   "metadata": {
    "scrolled": true
   },
   "outputs": [
    {
     "data": {
      "text/plain": [
       "[(0.610385537147522, 'texting'),\n",
       " (0.5203558802604675, 'phone-calling'),\n",
       " (0.5153835415840149, 'cellphone'),\n",
       " (0.5135326981544495, 'cell-phone'),\n",
       " (0.5117910504341125, 'dialing'),\n",
       " (0.5087355971336365, 'texing'),\n",
       " (0.5079342722892761, 'text-messaging'),\n",
       " (0.500900387763977, 'txting'),\n",
       " (0.4960441589355469, 'texting.'),\n",
       " (0.4951859414577484, 'Texting')]"
      ]
     },
     "execution_count": 12,
     "metadata": {},
     "output_type": "execute_result"
    }
   ],
   "source": [
    "# or\n",
    "model_en.get_analogies(\"driving\",\"car\",\"phone\")"
   ]
  },
  {
   "cell_type": "markdown",
   "id": "9b54da77",
   "metadata": {},
   "source": [
    "### Custom train word embeddings on indian food receipes 😋\n",
    "dataset credits: https://www.kaggle.com/datasets/sooryaprakash12/cleaned-indian-recipes-dataset"
   ]
  },
  {
   "cell_type": "code",
   "execution_count": 14,
   "id": "cebf4e09",
   "metadata": {
    "scrolled": true
   },
   "outputs": [
    {
     "data": {
      "text/html": [
       "<div>\n",
       "<style scoped>\n",
       "    .dataframe tbody tr th:only-of-type {\n",
       "        vertical-align: middle;\n",
       "    }\n",
       "\n",
       "    .dataframe tbody tr th {\n",
       "        vertical-align: top;\n",
       "    }\n",
       "\n",
       "    .dataframe thead th {\n",
       "        text-align: right;\n",
       "    }\n",
       "</style>\n",
       "<table border=\"1\" class=\"dataframe\">\n",
       "  <thead>\n",
       "    <tr style=\"text-align: right;\">\n",
       "      <th></th>\n",
       "      <th>TranslatedRecipeName</th>\n",
       "      <th>TranslatedIngredients</th>\n",
       "      <th>TotalTimeInMins</th>\n",
       "      <th>Cuisine</th>\n",
       "      <th>TranslatedInstructions</th>\n",
       "      <th>URL</th>\n",
       "      <th>Cleaned-Ingredients</th>\n",
       "      <th>image-url</th>\n",
       "      <th>Ingredient-count</th>\n",
       "    </tr>\n",
       "  </thead>\n",
       "  <tbody>\n",
       "    <tr>\n",
       "      <th>2342</th>\n",
       "      <td>Grated Beetroot Chilli Paratha Recipe</td>\n",
       "      <td>3 Green Chillies,1/2 teaspoon Cumin powder (Je...</td>\n",
       "      <td>40</td>\n",
       "      <td>Indian</td>\n",
       "      <td>To prepare Grated Beetroot Chilli Paratha Reci...</td>\n",
       "      <td>https://www.archanaskitchen.com/grated-beetroo...</td>\n",
       "      <td>salt,cumin powder (jeera),wheat flour,ghee,red...</td>\n",
       "      <td>https://www.archanaskitchen.com/images/archana...</td>\n",
       "      <td>8</td>\n",
       "    </tr>\n",
       "    <tr>\n",
       "      <th>4703</th>\n",
       "      <td>Mushroom Stuffed Ravioli With Burnt Butter Sau...</td>\n",
       "      <td>1 tablespoon Parsley leaves - chopped,4-5 Butt...</td>\n",
       "      <td>55</td>\n",
       "      <td>Italian Recipes</td>\n",
       "      <td>For the ravioli dough: To begin making the rav...</td>\n",
       "      <td>https://www.archanaskitchen.com/mushroom-stuff...</td>\n",
       "      <td>virgin olive oil,cloves garlic,onion,black pep...</td>\n",
       "      <td>https://www.archanaskitchen.com/images/archana...</td>\n",
       "      <td>21</td>\n",
       "    </tr>\n",
       "    <tr>\n",
       "      <th>5567</th>\n",
       "      <td>Bharwa Bhindi And Pyaaz Ki Sabzi Recipe</td>\n",
       "      <td>Salt - as required,Water - as required to spri...</td>\n",
       "      <td>55</td>\n",
       "      <td>Rajasthani</td>\n",
       "      <td>To begin making the Bharwa Bhindi And Pyaaz Ki...</td>\n",
       "      <td>https://www.archanaskitchen.com/bharwa-bhindi-...</td>\n",
       "      <td>salt,coriander (dhania) leaves,green chilli,re...</td>\n",
       "      <td>https://www.archanaskitchen.com/images/archana...</td>\n",
       "      <td>12</td>\n",
       "    </tr>\n",
       "    <tr>\n",
       "      <th>3763</th>\n",
       "      <td>Cabbage Palya (Recipe In Hindi)</td>\n",
       "      <td>2 cups cabbage - finely chopped, 2 tablespoons...</td>\n",
       "      <td>40</td>\n",
       "      <td>South Indian Recipes</td>\n",
       "      <td>To make the cabbage palya, first cut the cabba...</td>\n",
       "      <td>https://www.archanaskitchen.com/cabbage-palya-...</td>\n",
       "      <td>tomato,coriander (dhania) leaves,salt,mustard ...</td>\n",
       "      <td>https://www.archanaskitchen.com/images/archana...</td>\n",
       "      <td>12</td>\n",
       "    </tr>\n",
       "    <tr>\n",
       "      <th>5009</th>\n",
       "      <td>Cucumber Mor Kuzhambu Recipe (Cucumber Curry)</td>\n",
       "      <td>2 to 3 tablespoons Hung Curd (Greek Yogurt),1 ...</td>\n",
       "      <td>35</td>\n",
       "      <td>South Indian Recipes</td>\n",
       "      <td>To begin making the Cucumber Mor Kuzhambu reci...</td>\n",
       "      <td>https://www.archanaskitchen.com/cucumber-mor-k...</td>\n",
       "      <td>salt,coconut scrapped,ginger,hung curd (greek ...</td>\n",
       "      <td>https://www.archanaskitchen.com/images/archana...</td>\n",
       "      <td>9</td>\n",
       "    </tr>\n",
       "  </tbody>\n",
       "</table>\n",
       "</div>"
      ],
      "text/plain": [
       "                                   TranslatedRecipeName  \\\n",
       "2342              Grated Beetroot Chilli Paratha Recipe   \n",
       "4703  Mushroom Stuffed Ravioli With Burnt Butter Sau...   \n",
       "5567            Bharwa Bhindi And Pyaaz Ki Sabzi Recipe   \n",
       "3763                    Cabbage Palya (Recipe In Hindi)   \n",
       "5009      Cucumber Mor Kuzhambu Recipe (Cucumber Curry)   \n",
       "\n",
       "                                  TranslatedIngredients  TotalTimeInMins  \\\n",
       "2342  3 Green Chillies,1/2 teaspoon Cumin powder (Je...               40   \n",
       "4703  1 tablespoon Parsley leaves - chopped,4-5 Butt...               55   \n",
       "5567  Salt - as required,Water - as required to spri...               55   \n",
       "3763  2 cups cabbage - finely chopped, 2 tablespoons...               40   \n",
       "5009  2 to 3 tablespoons Hung Curd (Greek Yogurt),1 ...               35   \n",
       "\n",
       "                   Cuisine                             TranslatedInstructions  \\\n",
       "2342                Indian  To prepare Grated Beetroot Chilli Paratha Reci...   \n",
       "4703       Italian Recipes  For the ravioli dough: To begin making the rav...   \n",
       "5567            Rajasthani  To begin making the Bharwa Bhindi And Pyaaz Ki...   \n",
       "3763  South Indian Recipes  To make the cabbage palya, first cut the cabba...   \n",
       "5009  South Indian Recipes  To begin making the Cucumber Mor Kuzhambu reci...   \n",
       "\n",
       "                                                    URL  \\\n",
       "2342  https://www.archanaskitchen.com/grated-beetroo...   \n",
       "4703  https://www.archanaskitchen.com/mushroom-stuff...   \n",
       "5567  https://www.archanaskitchen.com/bharwa-bhindi-...   \n",
       "3763  https://www.archanaskitchen.com/cabbage-palya-...   \n",
       "5009  https://www.archanaskitchen.com/cucumber-mor-k...   \n",
       "\n",
       "                                    Cleaned-Ingredients  \\\n",
       "2342  salt,cumin powder (jeera),wheat flour,ghee,red...   \n",
       "4703  virgin olive oil,cloves garlic,onion,black pep...   \n",
       "5567  salt,coriander (dhania) leaves,green chilli,re...   \n",
       "3763  tomato,coriander (dhania) leaves,salt,mustard ...   \n",
       "5009  salt,coconut scrapped,ginger,hung curd (greek ...   \n",
       "\n",
       "                                              image-url  Ingredient-count  \n",
       "2342  https://www.archanaskitchen.com/images/archana...                 8  \n",
       "4703  https://www.archanaskitchen.com/images/archana...                21  \n",
       "5567  https://www.archanaskitchen.com/images/archana...                12  \n",
       "3763  https://www.archanaskitchen.com/images/archana...                12  \n",
       "5009  https://www.archanaskitchen.com/images/archana...                 9  "
      ]
     },
     "execution_count": 14,
     "metadata": {},
     "output_type": "execute_result"
    }
   ],
   "source": [
    "# Let's import pandas and read the CSV file:\n",
    "import pandas as pd\n",
    "\n",
    "df = pd.read_csv(\"Cleaned_Indian_Food_Dataset.csv\")\n",
    "df.sample(5)"
   ]
  },
  {
   "cell_type": "code",
   "execution_count": 15,
   "id": "b53fdee7",
   "metadata": {
    "scrolled": true
   },
   "outputs": [
    {
     "data": {
      "text/plain": [
       "'To begin making the Masala Karela Recipe,de-seed the karela and slice.\\nDo not remove the skin as the skin has all the nutrients.\\nAdd the karela to the pressure cooker with 3 tablespoon of water, salt and turmeric powder and pressure cook for three whistles.\\nRelease the pressure immediately and open the lids.\\nKeep aside.Heat oil in a heavy bottomed pan or a kadhai.\\nAdd cumin seeds and let it sizzle.Once the cumin seeds have sizzled, add onions and saute them till it turns golden brown in color.Add the karela, red chilli powder, amchur powder, coriander powder and besan.\\nStir to combine the masalas into the karela.Drizzle a little extra oil on the top and mix again.\\nCover the pan and simmer Masala Karela stirring occasionally until everything comes together well.\\nTurn off the heat.Transfer Masala Karela into a serving bowl and serve.Serve Masala Karela along with Panchmel Dal and Phulka for a weekday meal with your family.\\n'"
      ]
     },
     "execution_count": 15,
     "metadata": {},
     "output_type": "execute_result"
    }
   ],
   "source": [
    "# So here from this CSV file we just need 'TranslatedInstructions' column:\n",
    "df.TranslatedInstructions[0]"
   ]
  },
  {
   "cell_type": "code",
   "execution_count": 16,
   "id": "93259f6f",
   "metadata": {},
   "outputs": [],
   "source": [
    "# Next we use regular expressions (regex) for cleaning the text. First we import regex and then create a function to remove\n",
    "# all the extra symbols, spaces ...\n",
    "import re\n",
    "\n",
    "def preprocess(text):\n",
    "    text = re.sub(r'[^\\w\\s\\']',' ', text)\n",
    "    text = re.sub(r'[ \\n]+', ' ', text)\n",
    "    return text.strip().lower() "
   ]
  },
  {
   "cell_type": "code",
   "execution_count": 17,
   "id": "3e3566e9",
   "metadata": {},
   "outputs": [],
   "source": [
    "# So next we apply the function on the entire column using map function:\n",
    "df.TranslatedInstructions = df.TranslatedInstructions.map(preprocess)"
   ]
  },
  {
   "cell_type": "code",
   "execution_count": 18,
   "id": "6c766055",
   "metadata": {
    "scrolled": true
   },
   "outputs": [
    {
     "data": {
      "text/plain": [
       "'to begin making the masala karela recipe de seed the karela and slice do not remove the skin as the skin has all the nutrients add the karela to the pressure cooker with 3 tablespoon of water salt and turmeric powder and pressure cook for three whistles release the pressure immediately and open the lids keep aside heat oil in a heavy bottomed pan or a kadhai add cumin seeds and let it sizzle once the cumin seeds have sizzled add onions and saute them till it turns golden brown in color add the karela red chilli powder amchur powder coriander powder and besan stir to combine the masalas into the karela drizzle a little extra oil on the top and mix again cover the pan and simmer masala karela stirring occasionally until everything comes together well turn off the heat transfer masala karela into a serving bowl and serve serve masala karela along with panchmel dal and phulka for a weekday meal with your family'"
      ]
     },
     "execution_count": 18,
     "metadata": {},
     "output_type": "execute_result"
    }
   ],
   "source": [
    "# Now we'll print the individual cell to see the text is cleaned or not:\n",
    "df.TranslatedInstructions[0]"
   ]
  },
  {
   "cell_type": "code",
   "execution_count": 19,
   "id": "d018e31f",
   "metadata": {},
   "outputs": [],
   "source": [
    "# The way fasttext work, whenever you train the model you need to have a specific format file. We just need raw text because\n",
    "# this is unsupervised training (continous bag of words 'CBOW' and skip-grams are unsupervised form of training). So we \n",
    "# this column into a text file.\n",
    "# Now in food_receipes.txt every line is one receipes.\n",
    "df.to_csv(\"food_receipes.txt\", columns=[\"TranslatedInstructions\"], header=None, index=False)"
   ]
  },
  {
   "cell_type": "code",
   "execution_count": 20,
   "id": "e6a9f7d0",
   "metadata": {},
   "outputs": [],
   "source": [
    "# So now training the model is very very simple. fasttext has a method called 'train_unsupervised' and when you supply the \n",
    "# raw text to the method it will train the model.\n",
    "# Now what is doing this method is, it's going all over the text and it's using unsupervised approach, we studied two \n",
    "# approaches CBOW and skip-grams, by default it's using skip-gram. so it will takes a pair words, for example 'karela red \n",
    "# chilli', here the middle word will be target word and the other two words will be context.\n",
    "model = fasttext.train_unsupervised(\"food_receipes.txt\")"
   ]
  },
  {
   "cell_type": "code",
   "execution_count": 21,
   "id": "491ab81d",
   "metadata": {
    "scrolled": true
   },
   "outputs": [
    {
     "data": {
      "text/plain": [
       "[(0.6259598135948181, 'tikka'),\n",
       " (0.6213865876197815, 'nawabi'),\n",
       " (0.6091339588165283, 'bhurji'),\n",
       " (0.5993036031723022, 'tandoori'),\n",
       " (0.5893545746803284, 'kulcha'),\n",
       " (0.5847510099411011, 'tikkas'),\n",
       " (0.5834465026855469, 'tofu'),\n",
       " (0.5817282795906067, 'shashlik'),\n",
       " (0.5760965347290039, 'makhanwala'),\n",
       " (0.5663161873817444, 'reshmi')]"
      ]
     },
     "execution_count": 21,
     "metadata": {},
     "output_type": "execute_result"
    }
   ],
   "source": [
    "# Now if we find similar words to a given word, it will most accurately find them comparing with previous model which was \n",
    "# trained on general Wikipedia text.\n",
    "model.get_nearest_neighbors(\"paneer\")"
   ]
  },
  {
   "cell_type": "code",
   "execution_count": 22,
   "id": "548beb80",
   "metadata": {
    "scrolled": true
   },
   "outputs": [
    {
     "data": {
      "text/plain": [
       "[(0.9385766386985779, 'chutneys'),\n",
       " (0.7264912724494934, 'dhaniya'),\n",
       " (0.7180773615837097, 'imli'),\n",
       " (0.7073185443878174, 'khajur'),\n",
       " (0.6787099242210388, 'brahmi'),\n",
       " (0.6748732924461365, 'ratalu'),\n",
       " (0.6746129989624023, 'madurai'),\n",
       " (0.6730553507804871, 'south'),\n",
       " (0.6638494729995728, 'pudina'),\n",
       " (0.6520487070083618, 'chitranna')]"
      ]
     },
     "execution_count": 22,
     "metadata": {},
     "output_type": "execute_result"
    }
   ],
   "source": [
    "model.get_nearest_neighbors(\"chutney\")"
   ]
  },
  {
   "cell_type": "code",
   "execution_count": 23,
   "id": "79b12845",
   "metadata": {},
   "outputs": [
    {
     "data": {
      "text/plain": [
       "[(0.7761377692222595, 'khoya'),\n",
       " (0.7603527903556824, 'sheera'),\n",
       " (0.7088071703910828, 'mawa'),\n",
       " (0.7058563232421875, 'rabri'),\n",
       " (0.6968113780021667, 'badam'),\n",
       " (0.6908909678459167, 'kheer'),\n",
       " (0.6873621940612793, 'kesari'),\n",
       " (0.6864914298057556, 'burfi'),\n",
       " (0.6679328680038452, 'mohan'),\n",
       " (0.6669387221336365, 'peda')]"
      ]
     },
     "execution_count": 23,
     "metadata": {},
     "output_type": "execute_result"
    }
   ],
   "source": [
    "model.get_nearest_neighbors(\"halwa\")"
   ]
  },
  {
   "cell_type": "code",
   "execution_count": 25,
   "id": "6472994a",
   "metadata": {},
   "outputs": [
    {
     "data": {
      "text/plain": [
       "(100,)"
      ]
     },
     "execution_count": 25,
     "metadata": {},
     "output_type": "execute_result"
    }
   ],
   "source": [
    "# The vector shape is:\n",
    "model.get_word_vector(\"dosa\").shape    # We can change it to 300 or whatever we want."
   ]
  },
  {
   "cell_type": "markdown",
   "id": "4973be6f",
   "metadata": {},
   "source": [
    "https://fasttext.cc/docs/en/unsupervised-tutorial.html for details on parameters in train_unsupervised function. Based on the need one can use following parameters for fine tunning,\n",
    "\n",
    "1. epochs = Default value is 5. Epoch is how many times it will loop over the same dataset for the training\n",
    "2. lr = Learning rate\n",
    "3. thread = Number of threads for the training"
   ]
  },
  {
   "cell_type": "markdown",
   "id": "52c10a96",
   "metadata": {},
   "source": [
    "### Let's play with Pashto Language pre-trained model"
   ]
  },
  {
   "cell_type": "code",
   "execution_count": 9,
   "id": "d0341178",
   "metadata": {
    "scrolled": true
   },
   "outputs": [
    {
     "name": "stderr",
     "output_type": "stream",
     "text": [
      "Warning : `load_model` does not return WordVectorModel or SupervisedModel any more, but a `FastText` object which is very similar.\n"
     ]
    }
   ],
   "source": [
    "model_pa = fasttext.load_model(\"E://model//cc.ps.300.bin\") "
   ]
  },
  {
   "cell_type": "code",
   "execution_count": 10,
   "id": "70640253",
   "metadata": {},
   "outputs": [
    {
     "data": {
      "text/plain": [
       "[(0.35875511169433594, 'راغلاست'),\n",
       " (0.3346844017505646, 'بد'),\n",
       " (0.32112669944763184, 'ښې'),\n",
       " (0.3061031699180603, 'ترا'),\n",
       " (0.29902970790863037, 'سيهغه'),\n",
       " (0.28519681096076965, 'چوئي'),\n",
       " (0.28469809889793396, 'دښه'),\n",
       " (0.2829279899597168, 'انشأ'),\n",
       " (0.2791367471218109, 'هم'),\n",
       " (0.2775557041168213, 'دا')]"
      ]
     },
     "execution_count": 10,
     "metadata": {},
     "output_type": "execute_result"
    }
   ],
   "source": [
    "model_pa.get_nearest_neighbors(\"ښه\")   # 'better'"
   ]
  },
  {
   "cell_type": "code",
   "execution_count": 11,
   "id": "037dc896",
   "metadata": {
    "scrolled": true
   },
   "outputs": [
    {
     "data": {
      "text/plain": [
       "[(0.7729200720787048, 'اوښوونځی'),\n",
       " (0.700410783290863, 'ښوونځیوته'),\n",
       " (0.6793037056922913, 'ښوونخی'),\n",
       " (0.6609989404678345, 'ښوونځیمتعالیه'),\n",
       " (0.6547590494155884, 'ښوونځو'),\n",
       " (0.6524228453636169, 'شوونځی'),\n",
       " (0.6488434076309204, 'ښونځی'),\n",
       " (0.642431914806366, 'ښوونځ'),\n",
       " (0.636870801448822, 'شونځی'),\n",
       " (0.6325881481170654, 'ښوونځېو')]"
      ]
     },
     "execution_count": 11,
     "metadata": {},
     "output_type": "execute_result"
    }
   ],
   "source": [
    "model_pa.get_nearest_neighbors(\"ښوونځی\")    # 'School'"
   ]
  },
  {
   "cell_type": "code",
   "execution_count": 12,
   "id": "8c5f4d1e",
   "metadata": {},
   "outputs": [
    {
     "data": {
      "text/plain": [
       "[(0.6082401871681213, 'هیوادڅخه'),\n",
       " (0.6079029440879822, 'یوهیواد'),\n",
       " (0.606614351272583, 'هیوادنه'),\n",
       " (0.5960032343864441, 'هرهیواد'),\n",
       " (0.5951245427131653, 'هیوادکی'),\n",
       " (0.5737670063972473, 'هیوادوه'),\n",
       " (0.5737472176551819, 'هیوادکې'),\n",
       " (0.5695239305496216, 'هیوادني'),\n",
       " (0.5644078850746155, 'هیوادکي'),\n",
       " (0.5520766973495483, 'هیوادپه')]"
      ]
     },
     "execution_count": 12,
     "metadata": {},
     "output_type": "execute_result"
    }
   ],
   "source": [
    "model_en.get_nearest_neighbors(\"هیواد\")  # 'country'"
   ]
  },
  {
   "cell_type": "code",
   "execution_count": 13,
   "id": "06f5cf66",
   "metadata": {
    "scrolled": true
   },
   "outputs": [
    {
     "data": {
      "text/plain": [
       "[(0.7608622312545776, 'پوهنتونكاردان'),\n",
       " (0.7469274997711182, 'پوهنتوندعوت'),\n",
       " (0.7419348955154419, 'پوهنتونمريم'),\n",
       " (0.7280351519584656, 'پوهنتونسلام'),\n",
       " (0.7244547605514526, 'پوهنتونکمبریج'),\n",
       " (0.718766987323761, 'پوهنتونخاتم'),\n",
       " (0.7186954617500305, 'پوهنتوني'),\n",
       " (0.7164924740791321, 'پوهنتونکال'),\n",
       " (0.7035044431686401, 'پوهنتونآف'),\n",
       " (0.6881459355354309, 'پوهنتونرڼا')]"
      ]
     },
     "execution_count": 13,
     "metadata": {},
     "output_type": "execute_result"
    }
   ],
   "source": [
    "model_pa.get_nearest_neighbors(\"پوهنتون\")   # 'university'"
   ]
  },
  {
   "cell_type": "code",
   "execution_count": 14,
   "id": "9595d92d",
   "metadata": {},
   "outputs": [
    {
     "data": {
      "text/plain": [
       "[(0.49844151735305786, 'رسنۍ:کابل'),\n",
       " (0.4903295338153839, '۱۳۶۳کال'),\n",
       " (0.48934024572372437, 'پرکابل'),\n",
       " (0.489153653383255, 'باستانشناسی'),\n",
       " (0.4876821041107178, 'چهاراسیاب'),\n",
       " (0.48572057485580444, 'دفارمسي'),\n",
       " (0.4856768250465393, 'کوټوالۍ'),\n",
       " (0.4856499433517456, 'جلالاباد'),\n",
       " (0.48431241512298584, 'آساد'),\n",
       " (0.48382672667503357, 'پولیتخنیک')]"
      ]
     },
     "execution_count": 14,
     "metadata": {},
     "output_type": "execute_result"
    }
   ],
   "source": [
    "model_pa.get_nearest_neighbors(\"کابل\")   # Kabul"
   ]
  },
  {
   "cell_type": "code",
   "execution_count": 17,
   "id": "fef88b88",
   "metadata": {},
   "outputs": [
    {
     "data": {
      "text/plain": [
       "[(0.4749954342842102, 'کتابپلورنځي'),\n",
       " (0.4077494442462921, 'کتابفروش'),\n",
       " (0.3944847881793976, 'کتابګوټی'),\n",
       " (0.39322584867477417, 'الإسفار'),\n",
       " (0.3837553560733795, 'الماخوذات'),\n",
       " (0.38224607706069946, 'الکتاب'),\n",
       " (0.37697646021842957, 'الارشميدس'),\n",
       " (0.3747272193431854, 'کتابځای'),\n",
       " (0.37194523215293884, 'کتابپلورلو'),\n",
       " (0.3717959523200989, 'الکتانی')]"
      ]
     },
     "execution_count": 17,
     "metadata": {},
     "output_type": "execute_result"
    }
   ],
   "source": [
    "model_pa.get_analogies(\"کتاب\",\"چلول\",\"موټر\")"
   ]
  },
  {
   "cell_type": "code",
   "execution_count": 20,
   "id": "db98b7d1",
   "metadata": {},
   "outputs": [
    {
     "data": {
      "text/plain": [
       "(300,)"
      ]
     },
     "execution_count": 20,
     "metadata": {},
     "output_type": "execute_result"
    }
   ],
   "source": [
    "model_pa.get_word_vector(\"پوهنتون\").shape"
   ]
  }
 ],
 "metadata": {
  "kernelspec": {
   "display_name": "Python 3 (ipykernel)",
   "language": "python",
   "name": "python3"
  },
  "language_info": {
   "codemirror_mode": {
    "name": "ipython",
    "version": 3
   },
   "file_extension": ".py",
   "mimetype": "text/x-python",
   "name": "python",
   "nbconvert_exporter": "python",
   "pygments_lexer": "ipython3",
   "version": "3.9.12"
  }
 },
 "nbformat": 4,
 "nbformat_minor": 5
}
